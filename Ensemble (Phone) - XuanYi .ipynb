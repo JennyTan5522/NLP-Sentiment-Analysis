{
 "cells": [
  {
   "cell_type": "code",
   "execution_count": 1,
   "id": "e9d50064",
   "metadata": {},
   "outputs": [
    {
     "name": "stderr",
     "output_type": "stream",
     "text": [
      "C:\\Users\\User\\anaconda3\\lib\\site-packages\\scipy\\__init__.py:146: UserWarning: A NumPy version >=1.16.5 and <1.23.0 is required for this version of SciPy (detected version 1.23.3\n",
      "  warnings.warn(f\"A NumPy version >={np_minversion} and <{np_maxversion}\"\n"
     ]
    }
   ],
   "source": [
    "#Preprocessing\n",
    "import pandas as pd\n",
    "import numpy as np\n",
    "import string\n",
    "import re\n",
    "import contractions\n",
    "import spacy\n",
    "import nltk\n",
    "from textblob import TextBlob\n",
    "from nltk.corpus import stopwords\n",
    "from nltk.corpus import wordnet\n",
    "from cleantext import clean\n",
    "from sklearn.feature_extraction.text import TfidfVectorizer\n",
    "from sklearn.model_selection import train_test_split\n",
    "\n",
    "#Model Algorithms\n",
    "from sklearn.svm import SVC\n",
    "from sklearn.naive_bayes import MultinomialNB\n",
    "from sklearn.tree import DecisionTreeClassifier\n",
    "from sklearn.linear_model import LogisticRegression\n",
    "from sklearn.ensemble import VotingClassifier,StackingClassifier\n",
    "from sklearn.ensemble import BaggingClassifier\n",
    "\n",
    "import seaborn as sns\n",
    "import matplotlib.pyplot as plt\n",
    "from sklearn.metrics import confusion_matrix,classification_report,accuracy_score\n",
    "from sklearn.metrics import accuracy_score\n",
    "from sklearn import model_selection\n",
    "import contractions\n",
    "\n",
    "import time\n",
    "\n",
    "import warnings\n",
    "warnings.filterwarnings('ignore')"
   ]
  },
  {
   "cell_type": "markdown",
   "id": "cf4db763",
   "metadata": {},
   "source": [
    "### Read Training Dataset "
   ]
  },
  {
   "cell_type": "code",
   "execution_count": 2,
   "id": "1bbb20f0",
   "metadata": {},
   "outputs": [
    {
     "name": "stdout",
     "output_type": "stream",
     "text": [
      "Initial :\n",
      "Train\n",
      "------------------\n",
      "       textID                                               text  \\\n",
      "0  cb774db0d1                I`d have responded, if I were going   \n",
      "1  549e992a42      Sooo SAD I will miss you here in San Diego!!!   \n",
      "2  088c60f138                          my boss is bullying me...   \n",
      "3  9642c003ef                     what interview! leave me alone   \n",
      "4  358bd9e861   Sons of ****, why couldn`t they put them on t...   \n",
      "\n",
      "                         selected_text sentiment Time of Tweet Age of User  \\\n",
      "0  I`d have responded, if I were going   neutral       morning        0-20   \n",
      "1                             Sooo SAD  negative          noon       21-30   \n",
      "2                          bullying me  negative         night       31-45   \n",
      "3                       leave me alone  negative       morning       46-60   \n",
      "4                        Sons of ****,  negative          noon       60-70   \n",
      "\n",
      "       Country  Population -2020  Land Area (Km²)  Density (P/Km²)  \n",
      "0  Afghanistan          38928346         652860.0               60  \n",
      "1      Albania           2877797          27400.0              105  \n",
      "2      Algeria          43851044        2381740.0               18  \n",
      "3      Andorra             77265            470.0              164  \n",
      "4       Angola          32866272        1246700.0               26  \n",
      "\n",
      "Test\n",
      "------------------\n",
      "                                                text sentiment\n",
      "0                Anyone iPhone 14 or Pro?\\n\\n#iPhone   neutral\n",
      "1  I remember the first time i bought a smart Pho...  positive\n",
      "2  🧵 iPhone 14 Pro Max, my take:\\n\\nAfter using t...  positive\n",
      "3  I have started saving for the next #iPhone wha...   neutral\n",
      "4  Mf #iphone after this fucking update everythin...  negative\n"
     ]
    }
   ],
   "source": [
    "train=pd.read_csv(\"train.csv\",encoding=\"unicode_escape\")\n",
    "test=pd.read_csv(\"iPhoneTest.csv\")\n",
    "print(\"Initial :\")\n",
    "\n",
    "print('Train')\n",
    "print('------------------')\n",
    "print(train.head())\n",
    "\n",
    "print('\\nTest')\n",
    "print('------------------')\n",
    "print(test.head())"
   ]
  },
  {
   "cell_type": "markdown",
   "id": "2ec4cf45",
   "metadata": {},
   "source": [
    "### Attribute Selection"
   ]
  },
  {
   "cell_type": "code",
   "execution_count": 3,
   "id": "fea17548",
   "metadata": {},
   "outputs": [
    {
     "name": "stdout",
     "output_type": "stream",
     "text": [
      "Attribute Selection :\n",
      "\n",
      "Train\n",
      "------------------\n",
      "                                                text sentiment\n",
      "0                I`d have responded, if I were going   neutral\n",
      "1      Sooo SAD I will miss you here in San Diego!!!  negative\n",
      "2                          my boss is bullying me...  negative\n",
      "3                     what interview! leave me alone  negative\n",
      "4   Sons of ****, why couldn`t they put them on t...  negative\n",
      "\n",
      "Test\n",
      "------------------\n",
      "Attribute Selection :\n",
      "                                                text sentiment\n",
      "0                Anyone iPhone 14 or Pro?\\n\\n#iPhone   neutral\n",
      "1  I remember the first time i bought a smart Pho...  positive\n",
      "2  🧵 iPhone 14 Pro Max, my take:\\n\\nAfter using t...  positive\n",
      "3  I have started saving for the next #iPhone wha...   neutral\n",
      "4  Mf #iphone after this fucking update everythin...  negative\n"
     ]
    }
   ],
   "source": [
    "print('Attribute Selection :')\n",
    "print('\\nTrain')\n",
    "print('------------------')\n",
    "train=train[['text','sentiment']]\n",
    "\n",
    "print(train.head())\n",
    "\n",
    "\n",
    "print('\\nTest')\n",
    "print('------------------')\n",
    "test=test[['text','sentiment']]\n",
    "print('Attribute Selection :')\n",
    "print(test.head())"
   ]
  },
  {
   "cell_type": "markdown",
   "id": "f36c5de5",
   "metadata": {},
   "source": [
    "### Drop rows with null values "
   ]
  },
  {
   "cell_type": "code",
   "execution_count": 4,
   "id": "e5d6dbd9",
   "metadata": {},
   "outputs": [],
   "source": [
    "train.isnull().sum()\n",
    "train=train.dropna(axis=0)\n",
    "\n",
    "test.isnull().sum()\n",
    "test=test.dropna(axis=0)"
   ]
  },
  {
   "cell_type": "markdown",
   "id": "cca0e90c",
   "metadata": {},
   "source": [
    "### Convert to lowercase "
   ]
  },
  {
   "cell_type": "code",
   "execution_count": 5,
   "id": "0a3aca1d",
   "metadata": {},
   "outputs": [
    {
     "name": "stdout",
     "output_type": "stream",
     "text": [
      "Lowercase\n",
      "\n",
      "Train\n",
      "------------------\n",
      "0                  i`d have responded, if i were going\n",
      "1        sooo sad i will miss you here in san diego!!!\n",
      "2                            my boss is bullying me...\n",
      "3                       what interview! leave me alone\n",
      "4     sons of ****, why couldn`t they put them on t...\n",
      "Name: text, dtype: object\n",
      "\n",
      "Test\n",
      "------------------\n",
      "Lowercase\n",
      "0                  anyone iphone 14 or pro?\\n\\n#iphone\n",
      "1    i remember the first time i bought a smart pho...\n",
      "2    🧵 iphone 14 pro max, my take:\\n\\nafter using t...\n",
      "3    i have started saving for the next #iphone wha...\n",
      "4    mf #iphone after this fucking update everythin...\n",
      "Name: text, dtype: object\n"
     ]
    }
   ],
   "source": [
    "print('Lowercase')\n",
    "print('\\nTrain')\n",
    "print('------------------')\n",
    "train['text']=train['text'].str.lower()\n",
    "print(train['text'].head())\n",
    "\n",
    "print('\\nTest')\n",
    "print('------------------')\n",
    "test['text']=test['text'].str.lower()\n",
    "print('Lowercase')\n",
    "print(test['text'].head())"
   ]
  },
  {
   "cell_type": "markdown",
   "id": "79f9d156",
   "metadata": {},
   "source": [
    "### Remove URL"
   ]
  },
  {
   "cell_type": "code",
   "execution_count": 6,
   "id": "cb4ab375",
   "metadata": {},
   "outputs": [
    {
     "name": "stdout",
     "output_type": "stream",
     "text": [
      "Remove URL\n",
      "\n",
      "Train\n",
      "------------------\n",
      "Remove URL: \n",
      "0                  i`d have responded, if i were going\n",
      "1        sooo sad i will miss you here in san diego!!!\n",
      "2                            my boss is bullying me...\n",
      "3                       what interview! leave me alone\n",
      "4     sons of ****, why couldn`t they put them on t...\n",
      "Name: text, dtype: object\n",
      "\n",
      "Test\n",
      "------------------\n",
      "0                  anyone iphone 14 or pro?\\n\\n#iphone\n",
      "1    i remember the first time i bought a smart pho...\n",
      "2    🧵 iphone 14 pro max, my take:\\n\\nafter using t...\n",
      "3    i have started saving for the next #iphone wha...\n",
      "4    mf #iphone after this fucking update everythin...\n",
      "Name: text, dtype: object\n"
     ]
    }
   ],
   "source": [
    "print('Remove URL')\n",
    "print('\\nTrain')\n",
    "print('------------------')\n",
    "train['text'] = train['text'].replace('((www.[^\\s]+)|(https?://[^\\s]+))', '', regex = True)\n",
    "print(\"Remove URL: \")\n",
    "print(train['text'].head())\n",
    "\n",
    "\n",
    "print('\\nTest')\n",
    "print('------------------')\n",
    "test['text'] = test['text'].replace('((www.[^\\s]+)|(https?://[^\\s]+))', '', regex = True)\n",
    "print(test['text'].head())"
   ]
  },
  {
   "cell_type": "markdown",
   "id": "962faba2",
   "metadata": {},
   "source": [
    "### Remove Emoji "
   ]
  },
  {
   "cell_type": "code",
   "execution_count": 7,
   "id": "ff07ca6c",
   "metadata": {},
   "outputs": [
    {
     "name": "stdout",
     "output_type": "stream",
     "text": [
      "Remove Emoji\n",
      "\n",
      "Train\n",
      "------------------\n",
      "0                  i`d have responded, if i were going\n",
      "1        sooo sad i will miss you here in san diego!!!\n",
      "2                            my boss is bullying me...\n",
      "3                       what interview! leave me alone\n",
      "4     sons of ****, why couldn`t they put them on t...\n",
      "Name: text, dtype: object\n",
      "\n",
      "Test\n",
      "------------------\n",
      "0                  anyone iphone 14 or pro?\\n\\n#iphone\n",
      "1    i remember the first time i bought a smart pho...\n",
      "2     iphone 14 pro max, my take:\\n\\nafter using th...\n",
      "3    i have started saving for the next #iphone wha...\n",
      "4    mf #iphone after this fucking update everythin...\n",
      "Name: text, dtype: object\n"
     ]
    }
   ],
   "source": [
    "def remove_emojis(data):\n",
    "    emoj = re.compile(\"[\"\n",
    "        u\"\\U0001F600-\\U0001F64F\"  # emoticons\n",
    "        u\"\\U0001F300-\\U0001F5FF\"  # symbols & pictographs\n",
    "        u\"\\U0001F680-\\U0001F6FF\"  # transport & map symbols\n",
    "        u\"\\U0001F1E0-\\U0001F1FF\"  # flags (iOS)\n",
    "        u\"\\U00002500-\\U00002BEF\"  # chinese char\n",
    "        u\"\\U00002702-\\U000027B0\"\n",
    "        u\"\\U00002702-\\U000027B0\"\n",
    "        u\"\\U000024C2-\\U0001F251\"\n",
    "        u\"\\U0001f926-\\U0001f937\"\n",
    "        u\"\\U00010000-\\U0010ffff\"\n",
    "        u\"\\u2640-\\u2642\" \n",
    "        u\"\\u2600-\\u2B55\"\n",
    "        u\"\\u200d\"\n",
    "        u\"\\u23cf\"\n",
    "        u\"\\u23e9\"\n",
    "        u\"\\u231a\"\n",
    "        u\"\\ufe0f\"  # dingbats\n",
    "        u\"\\u3030\"\n",
    "                      \"]+\", re.UNICODE)\n",
    "    return re.sub(emoj, '', data)\n",
    "\n",
    "print('Remove Emoji')\n",
    "print('\\nTrain')\n",
    "print('------------------')\n",
    "train['text'] = train['text'].apply(lambda text: remove_emojis(text))\n",
    "print(train['text'].head())\n",
    "\n",
    "\n",
    "print('\\nTest')\n",
    "print('------------------')\n",
    "test['text'] = test['text'].apply(lambda text: remove_emojis(text))\n",
    "print(test['text'].head())"
   ]
  },
  {
   "cell_type": "markdown",
   "id": "b5fa10b9",
   "metadata": {},
   "source": [
    "### Remove @user "
   ]
  },
  {
   "cell_type": "code",
   "execution_count": 8,
   "id": "92c4583b",
   "metadata": {},
   "outputs": [
    {
     "name": "stdout",
     "output_type": "stream",
     "text": [
      "Remove @ User\n",
      "\n",
      "Train\n",
      "------------------\n",
      "Remove @user: \n",
      "0                  i`d have responded, if i were going\n",
      "1        sooo sad i will miss you here in san diego!!!\n",
      "2                            my boss is bullying me...\n",
      "3                       what interview! leave me alone\n",
      "4     sons of ****, why couldn`t they put them on t...\n",
      "Name: text, dtype: object\n",
      "\n",
      "Test\n",
      "------------------\n",
      "Remove @user: \n",
      "0                  anyone iphone 14 or pro?\\n\\n#iphone\n",
      "1    i remember the first time i bought a smart pho...\n",
      "2     iphone 14 pro max, my take:\\n\\nafter using th...\n",
      "3    i have started saving for the next #iphone wha...\n",
      "4    mf #iphone after this fucking update everythin...\n",
      "Name: text, dtype: object\n"
     ]
    }
   ],
   "source": [
    "print('Remove @ User')\n",
    "print('\\nTrain')\n",
    "print('------------------')\n",
    "train['text'] = train['text'].replace('(@[^\\s]+)', '', regex = True)\n",
    "print(\"Remove @user: \")\n",
    "print(train['text'].head())\n",
    "\n",
    "print('\\nTest')\n",
    "print('------------------')\n",
    "test['text'] = test['text'].replace('(@[^\\s]+)', '', regex = True)\n",
    "print(\"Remove @user: \")\n",
    "print(test['text'].head())"
   ]
  },
  {
   "cell_type": "markdown",
   "id": "9a1902f2",
   "metadata": {},
   "source": [
    "### Remove # keyword "
   ]
  },
  {
   "cell_type": "code",
   "execution_count": 9,
   "id": "d10c4302",
   "metadata": {},
   "outputs": [
    {
     "name": "stdout",
     "output_type": "stream",
     "text": [
      "Remove #\n",
      "\n",
      "Train\n",
      "------------------\n",
      "Remove #keyword: \n",
      "0                  i`d have responded, if i were going\n",
      "1        sooo sad i will miss you here in san diego!!!\n",
      "2                            my boss is bullying me...\n",
      "3                       what interview! leave me alone\n",
      "4     sons of ****, why couldn`t they put them on t...\n",
      "Name: text, dtype: object\n",
      "\n",
      "Test\n",
      "------------------\n",
      "Remove #keyword: \n",
      "0                         anyone iphone 14 or pro?\\n\\n\n",
      "1    i remember the first time i bought a smart pho...\n",
      "2     iphone 14 pro max, my take:\\n\\nafter using th...\n",
      "3     i have started saving for the next  whatever pro\n",
      "4    mf  after this fucking update everything has b...\n",
      "Name: text, dtype: object\n"
     ]
    }
   ],
   "source": [
    "print('Remove #')\n",
    "print('\\nTrain')\n",
    "print('------------------')\n",
    "train['text'] = train['text'].replace('(#[^\\s]+)', '', regex = True)\n",
    "print(\"Remove #keyword: \")\n",
    "print(train['text'].head())\n",
    "\n",
    "\n",
    "print('\\nTest')\n",
    "print('------------------')\n",
    "test['text'] = test['text'].replace('(#[^\\s]+)', '', regex = True)\n",
    "print(\"Remove #keyword: \")\n",
    "print(test['text'].head())"
   ]
  },
  {
   "cell_type": "markdown",
   "id": "65d6bb81",
   "metadata": {},
   "source": [
    "### Remove numerical characters "
   ]
  },
  {
   "cell_type": "code",
   "execution_count": 10,
   "id": "d1a1f4f7",
   "metadata": {},
   "outputs": [
    {
     "name": "stdout",
     "output_type": "stream",
     "text": [
      "Remove numerical characters\n",
      "\n",
      "Train\n",
      "------------------\n",
      "0                  i`d have responded, if i were going\n",
      "1        sooo sad i will miss you here in san diego!!!\n",
      "2                            my boss is bullying me...\n",
      "3                       what interview! leave me alone\n",
      "4     sons of ****, why couldn`t they put them on t...\n",
      "Name: text, dtype: object\n",
      "\n",
      "Test\n",
      "------------------\n",
      "Remove numbers: \n",
      "0                           anyone iphone  or pro?\\n\\n\n",
      "1    i remember the first time i bought a smart pho...\n",
      "2     iphone  pro max, my take:\\n\\nafter using the ...\n",
      "3     i have started saving for the next  whatever pro\n",
      "4    mf  after this fucking update everything has b...\n",
      "Name: text, dtype: object\n"
     ]
    }
   ],
   "source": [
    "print('Remove numerical characters')\n",
    "print('\\nTrain')\n",
    "print('------------------')\n",
    "train['text'] = train['text'].replace('[0-9]+', '', regex = True)\n",
    "print(train['text'].head())\n",
    "\n",
    "print('\\nTest')\n",
    "print('------------------')\n",
    "test['text'] = test['text'].replace('[0-9]+', '', regex = True)\n",
    "print(\"Remove numbers: \")\n",
    "print(test['text'].head())"
   ]
  },
  {
   "cell_type": "markdown",
   "id": "f28ffdfb",
   "metadata": {},
   "source": [
    "### Expand contractions"
   ]
  },
  {
   "cell_type": "code",
   "execution_count": 11,
   "id": "9c91f652",
   "metadata": {},
   "outputs": [
    {
     "name": "stdout",
     "output_type": "stream",
     "text": [
      "Expand contractions\n",
      "\n",
      "Train\n",
      "------------------\n",
      "0                  i`d have responded, if i were going\n",
      "1        sooo sad i will miss you here in san diego!!!\n",
      "2                            my boss is bullying me...\n",
      "3                       what interview! leave me alone\n",
      "4    sons of ****, why couldn`t they put them on th...\n",
      "Name: text, dtype: object\n",
      "\n",
      "Test\n",
      "------------------\n",
      "0                                anyone iphone or pro?\n",
      "1    i remember the first time i bought a smart pho...\n",
      "2    iphone pro max, my take: after using the new i...\n",
      "3      i have started saving for the next whatever pro\n",
      "4    mf after this fucking update everything has be...\n",
      "Name: text, dtype: object\n"
     ]
    }
   ],
   "source": [
    "def expand_contractions(text):\n",
    "    return \" \".join([contractions.fix(word) for word in str(text).split()])\n",
    "    \n",
    "    \n",
    "print('Expand contractions')\n",
    "print('\\nTrain')\n",
    "print('------------------')\n",
    "train['text'] = train['text'].apply(lambda text: expand_contractions(text))\n",
    "print(train['text'].head())\n",
    "\n",
    "print('\\nTest')\n",
    "print('------------------')\n",
    "test['text'] = test['text'].apply(lambda text: expand_contractions(text))\n",
    "print(test['text'].head())"
   ]
  },
  {
   "cell_type": "markdown",
   "id": "3144ac82",
   "metadata": {},
   "source": [
    "### Remove punctuation "
   ]
  },
  {
   "cell_type": "code",
   "execution_count": 12,
   "id": "af5c38e4",
   "metadata": {},
   "outputs": [
    {
     "name": "stdout",
     "output_type": "stream",
     "text": [
      "Remove punctuation\n",
      "\n",
      "Train\n",
      "------------------\n",
      "Remove punctuation: \n",
      "0                    id have responded if i were going\n",
      "1           sooo sad i will miss you here in san diego\n",
      "2                               my boss is bullying me\n",
      "3                        what interview leave me alone\n",
      "4    sons of  why couldnt they put them on the rele...\n",
      "Name: text, dtype: object\n",
      "\n",
      "Test\n",
      "------------------\n",
      "Remove punctuation: \n",
      "0                                 anyone iphone or pro\n",
      "1    i remember the first time i bought a smart pho...\n",
      "2    iphone pro max my take after using the new i h...\n",
      "3      i have started saving for the next whatever pro\n",
      "4    mf after this fucking update everything has be...\n",
      "Name: text, dtype: object\n"
     ]
    }
   ],
   "source": [
    "print('Remove punctuation')\n",
    "print('\\nTrain')\n",
    "print('------------------')\n",
    "train['text'] = train['text'].str.translate(str.maketrans('', '', string.punctuation))\n",
    "print(\"Remove punctuation: \")\n",
    "print(train['text'].head())\n",
    "\n",
    "print('\\nTest')\n",
    "print('------------------')\n",
    "test['text'] = test['text'].str.translate(str.maketrans('', '', string.punctuation))\n",
    "print(\"Remove punctuation: \")\n",
    "print(test['text'].head())"
   ]
  },
  {
   "cell_type": "markdown",
   "id": "ca1b07e6",
   "metadata": {},
   "source": [
    "### Remove repeated keywords"
   ]
  },
  {
   "cell_type": "code",
   "execution_count": 13,
   "id": "0c43e663",
   "metadata": {},
   "outputs": [
    {
     "name": "stdout",
     "output_type": "stream",
     "text": [
      "Remove repeated keywords :\n",
      "\n",
      "Train\n",
      "------------------\n",
      "0                    id have responded if i were going\n",
      "1            soo sad i will miss you here in san diego\n",
      "2                               my boss is bullying me\n",
      "3                        what interview leave me alone\n",
      "4    sons of  why couldnt they put them on the rele...\n",
      "Name: text, dtype: object\n",
      "\n",
      "Test\n",
      "------------------\n",
      "0                                 anyone iphone or pro\n",
      "1    i remember the first time i bought a smart pho...\n",
      "2    iphone pro max my take after using the new i h...\n",
      "3      i have started saving for the next whatever pro\n",
      "4    mf after this fucking update everything has be...\n",
      "Name: text, dtype: object\n"
     ]
    }
   ],
   "source": [
    "print('Remove repeated keywords :')\n",
    "print('\\nTrain')\n",
    "print('------------------')\n",
    "train['text'] = train['text'].replace(r'(.)\\1+', r'\\1\\1', regex = True)\n",
    "print(train['text'].head())\n",
    "\n",
    "print('\\nTest')\n",
    "print('------------------')\n",
    "test['text'] = test['text'].replace(r'(.)\\1+', r'\\1\\1', regex = True)\n",
    "print(test['text'].head())"
   ]
  },
  {
   "cell_type": "markdown",
   "id": "0883cc7a",
   "metadata": {},
   "source": [
    "###  Remove Stopwords "
   ]
  },
  {
   "cell_type": "code",
   "execution_count": 14,
   "id": "6bc7d6d9",
   "metadata": {},
   "outputs": [
    {
     "name": "stdout",
     "output_type": "stream",
     "text": [
      "Remove stopwords: \n",
      "\n",
      "Train\n",
      "------------------\n",
      "0                          id responded going\n",
      "1                      soo sad miss san diego\n",
      "2                               boss bullying\n",
      "3                       interview leave alone\n",
      "4    sons couldnt put releases already bought\n",
      "Name: text, dtype: object\n",
      "\n",
      "Test\n",
      "------------------\n",
      "0                                    anyone iphone pro\n",
      "1    remember first time bought smart phone g showe...\n",
      "2    iphone pro max take using new noticed interest...\n",
      "3                     started saving next whatever pro\n",
      "4    mf fucking update everything become slow canno...\n",
      "Name: text, dtype: object\n"
     ]
    }
   ],
   "source": [
    "stop_words = set(stopwords.words('english'))\n",
    "def cleaning_stopwords(text):\n",
    "    return \" \".join([word for word in str(text).split() if word not in stop_words])\n",
    "\n",
    "print(\"Remove stopwords: \")\n",
    "print('\\nTrain')\n",
    "print('------------------')\n",
    "train['text'] = train['text'].apply(lambda text: cleaning_stopwords(text))\n",
    "print(train['text'].head())\n",
    "\n",
    "print('\\nTest')\n",
    "print('------------------')\n",
    "test['text'] = test['text'].apply(lambda text: cleaning_stopwords(text))\n",
    "print(test['text'].head())"
   ]
  },
  {
   "cell_type": "markdown",
   "id": "4714f948",
   "metadata": {},
   "source": [
    "### Tokenization"
   ]
  },
  {
   "cell_type": "code",
   "execution_count": 15,
   "id": "efb095b8",
   "metadata": {},
   "outputs": [
    {
     "name": "stdout",
     "output_type": "stream",
     "text": [
      "Tokenization: \n",
      "\n",
      "Train\n",
      "------------------\n",
      "Tokenization: \n",
      "0                             [id, responded, going]\n",
      "1                       [soo, sad, miss, san, diego]\n",
      "2                                   [boss, bullying]\n",
      "3                          [interview, leave, alone]\n",
      "4    [sons, couldnt, put, releases, already, bought]\n",
      "Name: text, dtype: object\n",
      "\n",
      "Test\n",
      "------------------\n",
      "Tokenization: \n",
      "0                                [anyone, iphone, pro]\n",
      "1    [remember, first, time, bought, smart, phone, ...\n",
      "2    [iphone, pro, max, take, using, new, noticed, ...\n",
      "3               [started, saving, next, whatever, pro]\n",
      "4    [mf, fucking, update, everything, become, slow...\n",
      "Name: text, dtype: object\n"
     ]
    }
   ],
   "source": [
    "print(\"Tokenization: \")\n",
    "print('\\nTrain')\n",
    "print('------------------')\n",
    "train['text'] = train['text'].apply(nltk.word_tokenize)\n",
    "print(\"Tokenization: \")\n",
    "print(train['text'].head())\n",
    "\n",
    "\n",
    "print('\\nTest')\n",
    "print('------------------')\n",
    "test['text'] = test['text'].apply(nltk.word_tokenize)\n",
    "print(\"Tokenization: \")\n",
    "print(test['text'].head())"
   ]
  },
  {
   "cell_type": "code",
   "execution_count": 16,
   "id": "de8d323f",
   "metadata": {},
   "outputs": [
    {
     "name": "stdout",
     "output_type": "stream",
     "text": [
      "\n",
      "Train\n",
      "------------------\n",
      "                                              text sentiment\n",
      "0                           [id, responded, going]   neutral\n",
      "1                     [soo, sad, miss, san, diego]  negative\n",
      "2                                 [boss, bullying]  negative\n",
      "3                        [interview, leave, alone]  negative\n",
      "4  [sons, couldnt, put, releases, already, bought]  negative\n",
      "\n",
      "Test\n",
      "------------------\n",
      "                                                text sentiment\n",
      "0                              [anyone, iphone, pro]   neutral\n",
      "1  [remember, first, time, bought, smart, phone, ...  positive\n",
      "2  [iphone, pro, max, take, using, new, noticed, ...  positive\n",
      "3             [started, saving, next, whatever, pro]   neutral\n",
      "4  [mf, fucking, update, everything, become, slow...  negative\n"
     ]
    }
   ],
   "source": [
    "print('\\nTrain')\n",
    "print('------------------')\n",
    "print(train.head())\n",
    "\n",
    "print('\\nTest')\n",
    "print('------------------')\n",
    "print(test.head())"
   ]
  },
  {
   "cell_type": "markdown",
   "id": "1cc5236d",
   "metadata": {},
   "source": [
    "### Label Encoding "
   ]
  },
  {
   "cell_type": "code",
   "execution_count": 17,
   "id": "021e4e6b",
   "metadata": {},
   "outputs": [
    {
     "name": "stdout",
     "output_type": "stream",
     "text": [
      "\n",
      "Train\n",
      "------------------\n",
      "                                              text  sentiment\n",
      "0                           [id, responded, going]          0\n",
      "1                     [soo, sad, miss, san, diego]         -1\n",
      "2                                 [boss, bullying]         -1\n",
      "3                        [interview, leave, alone]         -1\n",
      "4  [sons, couldnt, put, releases, already, bought]         -1\n",
      "\n",
      "Test\n",
      "------------------\n",
      "                                                text  sentiment\n",
      "0                              [anyone, iphone, pro]          0\n",
      "1  [remember, first, time, bought, smart, phone, ...          1\n",
      "2  [iphone, pro, max, take, using, new, noticed, ...          1\n",
      "3             [started, saving, next, whatever, pro]          0\n",
      "4  [mf, fucking, update, everything, become, slow...         -1\n"
     ]
    }
   ],
   "source": [
    "train['sentiment'] = train['sentiment'].map({\"positive\": 1, \"neutral\": 0, \"negative\": -1})\n",
    "test['sentiment'] = test['sentiment'].map({\"positive\": 1, \"neutral\": 0, \"negative\": -1})\n",
    "print('\\nTrain')\n",
    "print('------------------')\n",
    "print(train.head())\n",
    "\n",
    "print('\\nTest')\n",
    "print('------------------')\n",
    "print(test.head())"
   ]
  },
  {
   "cell_type": "code",
   "execution_count": 18,
   "id": "045ff26a",
   "metadata": {},
   "outputs": [
    {
     "name": "stdout",
     "output_type": "stream",
     "text": [
      "\n",
      "Train\n",
      "------------------\n",
      " 0    11117\n",
      " 1     8582\n",
      "-1     7781\n",
      "Name: sentiment, dtype: int64\n",
      "\n",
      "Test\n",
      "------------------\n",
      "-1    126\n",
      " 1    107\n",
      " 0     77\n",
      "Name: sentiment, dtype: int64\n"
     ]
    }
   ],
   "source": [
    "print('\\nTrain')\n",
    "print('------------------')\n",
    "print(train['sentiment'].value_counts())\n",
    "\n",
    "print('\\nTest')\n",
    "print('------------------')\n",
    "print(test['sentiment'].value_counts())"
   ]
  },
  {
   "cell_type": "markdown",
   "id": "1fe05071",
   "metadata": {},
   "source": [
    "### POS "
   ]
  },
  {
   "cell_type": "code",
   "execution_count": 19,
   "id": "55c328fb",
   "metadata": {},
   "outputs": [
    {
     "name": "stdout",
     "output_type": "stream",
     "text": [
      "POS : \n",
      "\n",
      "Train\n",
      "------------------\n",
      "POS tagging: \n",
      "0           [(id, NN), (responded, VBD), (going, VBG)]\n",
      "1    [(soo, JJ), (sad, JJ), (miss, NN), (san, NN), ...\n",
      "2                        [(boss, IN), (bullying, VBG)]\n",
      "3         [(interview, NN), (leave, VBP), (alone, RB)]\n",
      "4    [(sons, NNS), (couldnt, VBP), (put, VBN), (rel...\n",
      "Name: text, dtype: object\n",
      "\n",
      "Test\n",
      "------------------\n",
      "POS tagging: \n",
      "0              [(anyone, NN), (iphone, CD), (pro, NN)]\n",
      "1    [(remember, VB), (first, JJ), (time, NN), (bou...\n",
      "2    [(iphone, JJ), (pro, JJ), (max, NNS), (take, V...\n",
      "3    [(started, VBN), (saving, VBG), (next, JJ), (w...\n",
      "4    [(mf, NN), (fucking, VBG), (update, JJ), (ever...\n",
      "Name: text, dtype: object\n"
     ]
    }
   ],
   "source": [
    "print(\"POS : \")\n",
    "print('\\nTrain')\n",
    "print('------------------')\n",
    "train['text'] = train['text'].apply(nltk.pos_tag)\n",
    "print(\"POS tagging: \")\n",
    "print(train['text'].head())\n",
    "\n",
    "print('\\nTest')\n",
    "print('------------------')\n",
    "test['text'] = test['text'].apply(nltk.pos_tag)\n",
    "print(\"POS tagging: \")\n",
    "print(test['text'].head())"
   ]
  },
  {
   "cell_type": "markdown",
   "id": "4ee368aa",
   "metadata": {},
   "source": [
    "### Lemmatization"
   ]
  },
  {
   "cell_type": "code",
   "execution_count": 20,
   "id": "e2ae3553",
   "metadata": {},
   "outputs": [
    {
     "name": "stdout",
     "output_type": "stream",
     "text": [
      "Lemmatization : \n",
      "\n",
      "Train\n",
      "------------------\n",
      "0                          id respond go\n",
      "1                 soo sad miss san diego\n",
      "2                              bos bully\n",
      "3                  interview leave alone\n",
      "4    son couldnt put release already buy\n",
      "Name: text, dtype: object\n",
      "\n",
      "Test\n",
      "------------------\n",
      "0                                    anyone iphone pro\n",
      "1    remember first time buy smart phone g show gra...\n",
      "2    iphone pro max take use new notice interesting...\n",
      "3                         start save next whatever pro\n",
      "4    mf fuck update everything become slow can not ...\n",
      "Name: text, dtype: object\n"
     ]
    }
   ],
   "source": [
    "def get_wordnet_pos(treebank_pos):\n",
    "    if treebank_pos.startswith('J'):\n",
    "        return wordnet.ADJ\n",
    "    elif treebank_pos.startswith('V'):\n",
    "        return wordnet.VERB\n",
    "    elif treebank_pos.startswith('N'):\n",
    "        return wordnet.NOUN\n",
    "    elif treebank_pos.startswith('R'):\n",
    "        return wordnet.ADV\n",
    "    else:\n",
    "        return wordnet.NOUN\n",
    "\n",
    "def lemmatization(text):\n",
    "    lemmatized_tokens = []\n",
    "\n",
    "    for i in range(len(text)):\n",
    "        word, pos = text[i]\n",
    "        \n",
    "        lemmatized_tokens.append(nltk.WordNetLemmatizer().lemmatize(word, get_wordnet_pos(pos)))\n",
    "        \n",
    "    return \" \".join(lemmatized_tokens)\n",
    "\n",
    "print(\"Lemmatization : \")\n",
    "print('\\nTrain')\n",
    "print('------------------')\n",
    "train['text'] = train['text'].apply(lambda text: lemmatization(text))\n",
    "print(train['text'].head())\n",
    "\n",
    "\n",
    "print('\\nTest')\n",
    "print('------------------')\n",
    "test['text'] = test['text'].apply(lambda text: lemmatization(text))\n",
    "print(test['text'].head())"
   ]
  },
  {
   "cell_type": "markdown",
   "id": "daefa7a9",
   "metadata": {},
   "source": [
    "### Train Test Split"
   ]
  },
  {
   "cell_type": "code",
   "execution_count": 21,
   "id": "483b3029",
   "metadata": {},
   "outputs": [],
   "source": [
    "X_train=train['text']\n",
    "X_test=test['text']\n",
    "y_train=train['sentiment']\n",
    "y_test=test['sentiment']"
   ]
  },
  {
   "cell_type": "code",
   "execution_count": 22,
   "id": "50c0db16",
   "metadata": {},
   "outputs": [],
   "source": [
    "tfidf_vectorizer= TfidfVectorizer(max_df=0.90, min_df=2,max_features =1000)\n",
    "X_train = tfidf_vectorizer.fit_transform(X_train) #Tokenize and build vocabulary\n",
    "X_test = tfidf_vectorizer.transform(X_test) #Tokenize and build vocabulary"
   ]
  },
  {
   "cell_type": "code",
   "execution_count": 23,
   "id": "0372f97e",
   "metadata": {},
   "outputs": [
    {
     "name": "stdout",
     "output_type": "stream",
     "text": [
      "(27480, 1000)\n",
      "(27480,)\n",
      "(310, 1000)\n",
      "(310,)\n"
     ]
    }
   ],
   "source": [
    "print(X_train.shape)\n",
    "print(y_train.shape)\n",
    "print(X_test.shape)\n",
    "print(y_test.shape)"
   ]
  },
  {
   "cell_type": "markdown",
   "id": "357e5384",
   "metadata": {},
   "source": [
    "## Ensemble Model "
   ]
  },
  {
   "cell_type": "markdown",
   "id": "e4713429",
   "metadata": {},
   "source": [
    "#### Confusion Matrix "
   ]
  },
  {
   "cell_type": "code",
   "execution_count": 24,
   "id": "20f88a8e",
   "metadata": {},
   "outputs": [],
   "source": [
    "def confusion_matrix_evaluation(classifier,y_predicted):\n",
    "    mat=confusion_matrix(y_test,y_predicted)\n",
    "    sns.heatmap(mat.T, xticklabels=['Predicted 1','Predicted 0','Predicted -1'],yticklabels=['Actual 1','Actual 0','Actual -1'],\n",
    "                annot=True, fmt='d', cbar=False,cmap=\"YlGnBu\")\n",
    "    plt.title('Confusion Matrix for '+classifier)\n",
    "    plt.ylabel('True label')\n",
    "    plt.xlabel('Predicted label')\n",
    "    plt.savefig(\"confusion_matrix.png\")\n",
    "    plt.show()\n",
    "    print(classifier+' Classification Report ')\n",
    "    print('======================================================')\n",
    "    print(classification_report(y_test,y_predicted))"
   ]
  },
  {
   "cell_type": "markdown",
   "id": "84cd7cd3",
   "metadata": {},
   "source": [
    "#### Define Base Learners "
   ]
  },
  {
   "cell_type": "code",
   "execution_count": 25,
   "id": "700bfedf",
   "metadata": {},
   "outputs": [],
   "source": [
    "from sklearn.ensemble import RandomForestClassifier\n",
    "m1=SVC(C=0.1,kernel='linear',random_state=1)\n",
    "m2=MultinomialNB(alpha=20)\n",
    "m3=RandomForestClassifier(random_state=1,max_leaf_nodes=65,max_depth=100)\n",
    "m4=LogisticRegression(multi_class='multinomial',random_state=1,solver='saga')"
   ]
  },
  {
   "cell_type": "code",
   "execution_count": 26,
   "id": "7b231fe5",
   "metadata": {},
   "outputs": [],
   "source": [
    "def model_accuracy(m1,m2,m3,m4,classifier):\n",
    "    print('Doing 2-fold Cross Validation Here :')\n",
    "    for iterclf,iterlabel in zip([m1,m2,m3,m4,classifier],\n",
    "                             ['SVC',\n",
    "                              'MNB',\n",
    "                              'Random Forest Tree',\n",
    "                              'Logistic Regression',\n",
    "                               classifier\n",
    "                             ]):\n",
    "     start_time = time.time()\n",
    "     scores=model_selection.cross_val_score(iterclf,X_train,y_train,cv=2,scoring='accuracy')\n",
    "     run_time = time.time() - start_time\n",
    "     print('Accuracy :%0.6f  (+/- %0.4f)  [%20s]   ||  %4.2f seconds'%(scores.mean(),scores.std(),iterlabel,run_time))"
   ]
  },
  {
   "cell_type": "markdown",
   "id": "41a23cf1",
   "metadata": {},
   "source": [
    "### Voting "
   ]
  },
  {
   "cell_type": "code",
   "execution_count": 27,
   "id": "1c8bfb71",
   "metadata": {},
   "outputs": [
    {
     "name": "stdout",
     "output_type": "stream",
     "text": [
      "Doing 2-fold Cross Validation Here :\n",
      "Accuracy :0.627147  (+/- 0.0008)  [                 SVC]   ||  42.29 seconds\n",
      "Accuracy :0.592722  (+/- 0.0013)  [                 MNB]   ||  0.02 seconds\n",
      "Accuracy :0.665102  (+/- 0.0028)  [  Random Forest Tree]   ||  2.68 seconds\n",
      "Accuracy :0.683333  (+/- 0.0010)  [ Logistic Regression]   ||  0.20 seconds\n",
      "Accuracy :0.650255  (+/- 0.0021)  [VotingClassifier(estimators=[('SVC',\n",
      "                              SVC(C=0.1, kernel='linear', random_state=1)),\n",
      "                             ('Multinomial Naive Bayes',\n",
      "                              MultinomialNB(alpha=20)),\n",
      "                             ('Random Forest Tree',\n",
      "                              RandomForestClassifier(max_depth=100,\n",
      "                                                     max_leaf_nodes=65,\n",
      "                                                     random_state=1)),\n",
      "                             ('Logistic Regression',\n",
      "                              LogisticRegression(multi_class='multinomial',\n",
      "                                                 random_state=1,\n",
      "                                                 solver='saga'))])]   ||  40.32 seconds\n",
      "\t\t\t Voting\n",
      "================================================================\n",
      "\n"
     ]
    },
    {
     "data": {
      "image/png": "[encoded data removed]",
      "text/plain": [
       "<Figure size 432x288 with 1 Axes>"
      ]
     },
     "metadata": {
      "needs_background": "light"
     },
     "output_type": "display_data"
    },
    {
     "name": "stdout",
     "output_type": "stream",
     "text": [
      "Ensemble Method - Voting Classification Report \n",
      "======================================================\n",
      "              precision    recall  f1-score   support\n",
      "\n",
      "          -1       0.79      0.15      0.25       126\n",
      "           0       0.29      0.96      0.45        77\n",
      "           1       0.85      0.27      0.41       107\n",
      "\n",
      "    accuracy                           0.39       310\n",
      "   macro avg       0.65      0.46      0.37       310\n",
      "weighted avg       0.69      0.39      0.36       310\n",
      "\n",
      "Training Accuracy : 0.6861    ||   Training Time  48.28 seconds\n"
     ]
    }
   ],
   "source": [
    "votingCLF=VotingClassifier([('SVC',m1),('Multinomial Naive Bayes',m2),('Random Forest Tree',m3),('Logistic Regression',m4)\n",
    "                       ])\n",
    "model_accuracy(m1,m2,m3,m4,votingCLF)  \n",
    "start_time = time.time()\n",
    "votingCLF.fit(X_train,y_train)\n",
    "run_time = time.time() - start_time\n",
    "predicted_Vote=votingCLF.predict(X_test)\n",
    "\n",
    "print('\\t\\t\\t Voting')\n",
    "print('================================================================\\n')\n",
    "confusion_matrix_evaluation('Ensemble Method - Voting',predicted_Vote)\n",
    "print('Training Accuracy : %.4f    ||   Training Time  %4.2f seconds' % (votingCLF.score(X_train, y_train),run_time))"
   ]
  },
  {
   "cell_type": "markdown",
   "id": "67f5b036",
   "metadata": {},
   "source": [
    "#### Bagging  "
   ]
  },
  {
   "cell_type": "code",
   "execution_count": 30,
   "id": "9aa52f2e",
   "metadata": {},
   "outputs": [
    {
     "name": "stdout",
     "output_type": "stream",
     "text": [
      "Doing 2-fold Cross Validation Here :\n",
      "Accuracy :0.627147  (+/- 0.0008)  [                 SVC]   ||  42.62 seconds\n",
      "Accuracy :0.592722  (+/- 0.0013)  [                 MNB]   ||  0.02 seconds\n",
      "Accuracy :0.665102  (+/- 0.0028)  [  Random Forest Tree]   ||  3.65 seconds\n",
      "Accuracy :0.683333  (+/- 0.0010)  [ Logistic Regression]   ||  0.22 seconds\n",
      "Accuracy :0.657351  (+/- 0.0013)  [BaggingClassifier(base_estimator=RandomForestClassifier(max_depth=100,\n",
      "                                                        max_leaf_nodes=65,\n",
      "                                                        random_state=1),\n",
      "                  max_samples=0.7, n_estimators=20, oob_score=True,\n",
      "                  random_state=1)]   ||  53.68 seconds\n",
      "\t\t\t Bagging\n",
      "================================================================\n",
      "\n"
     ]
    },
    {
     "data": {
      "image/png": "[encoded data removed]",
      "text/plain": [
       "<Figure size 432x288 with 1 Axes>"
      ]
     },
     "metadata": {
      "needs_background": "light"
     },
     "output_type": "display_data"
    },
    {
     "name": "stdout",
     "output_type": "stream",
     "text": [
      "Ensemble Method - Bagging Classification Report \n",
      "======================================================\n",
      "              precision    recall  f1-score   support\n",
      "\n",
      "          -1       0.80      0.16      0.26       126\n",
      "           0       0.29      0.88      0.44        77\n",
      "           1       0.76      0.36      0.48       107\n",
      "\n",
      "    accuracy                           0.41       310\n",
      "   macro avg       0.62      0.47      0.39       310\n",
      "weighted avg       0.66      0.41      0.38       310\n",
      "\n",
      "Training Accuracy : 0.6731   ||   Training Time  35.58 seconds\n"
     ]
    }
   ],
   "source": [
    "bag_model=BaggingClassifier(\n",
    "    base_estimator=RandomForestClassifier(random_state=1,max_leaf_nodes=65,max_depth=100),\n",
    "    n_estimators=20, #n_estimator - how many subgroup of dataset\n",
    "    max_samples=0.7, #Use 80%of sample\n",
    "    oob_score=True, #Out of bag \n",
    "    random_state=1\n",
    ")\n",
    "model_accuracy(m1,m2,m3,m4,bag_model) \n",
    "start_time = time.time()\n",
    "bag_model.fit(X_train,y_train)\n",
    "run_time = time.time() - start_time\n",
    "predictedBag=bag_model.predict(X_test)\n",
    "score_Bag=accuracy_score(predictedBag,y_test)\n",
    "\n",
    "print('\\t\\t\\t Bagging')\n",
    "print('================================================================\\n')\n",
    "confusion_matrix_evaluation('Ensemble Method - Bagging',predictedBag)\n",
    "print('Training Accuracy : %.4f   ||   Training Time  %4.2f seconds' % (bag_model.score(X_train, y_train),run_time))"
   ]
  },
  {
   "cell_type": "markdown",
   "id": "5bbad8b1",
   "metadata": {},
   "source": [
    "### Stacking "
   ]
  },
  {
   "cell_type": "code",
   "execution_count": 29,
   "id": "c1dcc68d",
   "metadata": {},
   "outputs": [
    {
     "name": "stdout",
     "output_type": "stream",
     "text": [
      "Doing 2-fold Cross Validation Here :\n",
      "Accuracy :0.627147  (+/- 0.0008)  [                 SVC]   ||  38.04 seconds\n",
      "Accuracy :0.592722  (+/- 0.0013)  [                 MNB]   ||  0.01 seconds\n",
      "Accuracy :0.665102  (+/- 0.0028)  [  Random Forest Tree]   ||  3.46 seconds\n",
      "Accuracy :0.683333  (+/- 0.0010)  [ Logistic Regression]   ||  0.37 seconds\n",
      "Accuracy :0.696361  (+/- 0.0033)  [StackingClassifier(estimators=[('SVC',\n",
      "                                SVC(C=0.1, kernel='linear', random_state=1)),\n",
      "                               ('Multinomial Naive Bayes',\n",
      "                                MultinomialNB(alpha=20)),\n",
      "                               ('Random Forest Tree',\n",
      "                                RandomForestClassifier(max_depth=100,\n",
      "                                                       max_leaf_nodes=65,\n",
      "                                                       random_state=1)),\n",
      "                               ('Logistic Regression',\n",
      "                                LogisticRegression(multi_class='multinomial',\n",
      "                                                   random_state=1,\n",
      "                                                   solver='saga'))])]   ||  165.26 seconds\n",
      "\t\t\t Stacking\n",
      "================================================================\n",
      "\n"
     ]
    },
    {
     "data": {
      "image/png": "[encoded data removed]",
      "text/plain": [
       "<Figure size 432x288 with 1 Axes>"
      ]
     },
     "metadata": {
      "needs_background": "light"
     },
     "output_type": "display_data"
    },
    {
     "name": "stdout",
     "output_type": "stream",
     "text": [
      "Ensemble Method - Stacking Classification Report \n",
      "======================================================\n",
      "              precision    recall  f1-score   support\n",
      "\n",
      "          -1       0.78      0.25      0.38       126\n",
      "           0       0.28      0.79      0.42        77\n",
      "           1       0.70      0.36      0.47       107\n",
      "\n",
      "    accuracy                           0.42       310\n",
      "   macro avg       0.59      0.47      0.42       310\n",
      "weighted avg       0.63      0.42      0.42       310\n",
      "\n",
      "Training Accuracy : 0.7211   ||   Training Time  238.68 seconds\n"
     ]
    }
   ],
   "source": [
    "stackingCLF=StackingClassifier([('SVC',m1),('Multinomial Naive Bayes',m2),('Random Forest Tree',m3),('Logistic Regression',m4)\n",
    "                       ])\n",
    "model_accuracy(m1,m2,m3,m4,stackingCLF)   \n",
    "start_time = time.time()\n",
    "stackingCLF.fit(X_train,y_train)\n",
    "run_time = time.time() - start_time\n",
    "stack_predicted=stackingCLF.predict(X_test)\n",
    "\n",
    "print('\\t\\t\\t Stacking')\n",
    "print('================================================================\\n')\n",
    "confusion_matrix_evaluation('Ensemble Method - Stacking',stack_predicted)\n",
    "print('Training Accuracy : %.4f   ||   Training Time  %4.2f seconds' % (stackingCLF.score(X_train, y_train),run_time))"
   ]
  }
 ],
 "metadata": {
  "kernelspec": {
   "display_name": "Python 3 (ipykernel)",
   "language": "python",
   "name": "python3"
  },
  "language_info": {
   "codemirror_mode": {
    "name": "ipython",
    "version": 3
   },
   "file_extension": ".py",
   "mimetype": "text/x-python",
   "name": "python",
   "nbconvert_exporter": "python",
   "pygments_lexer": "ipython3",
   "version": "3.9.12"
  }
 },
 "nbformat": 4,
 "nbformat_minor": 5
}
