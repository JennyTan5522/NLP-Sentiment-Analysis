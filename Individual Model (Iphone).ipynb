{
 "cells": [
  {
   "cell_type": "code",
   "execution_count": 1,
   "id": "e9d50064",
   "metadata": {},
   "outputs": [
    {
     "name": "stderr",
     "output_type": "stream",
     "text": [
      "C:\\Users\\User\\anaconda3\\lib\\site-packages\\scipy\\__init__.py:146: UserWarning: A NumPy version >=1.16.5 and <1.23.0 is required for this version of SciPy (detected version 1.23.3\n",
      "  warnings.warn(f\"A NumPy version >={np_minversion} and <{np_maxversion}\"\n"
     ]
    }
   ],
   "source": [
    "#Preprocessing\n",
    "import pandas as pd\n",
    "import numpy as np\n",
    "import string\n",
    "import re\n",
    "import spacy\n",
    "import nltk\n",
    "from textblob import TextBlob\n",
    "from nltk.corpus import stopwords\n",
    "from nltk.corpus import wordnet\n",
    "from cleantext import clean\n",
    "from sklearn.feature_extraction.text import TfidfVectorizer\n",
    "from sklearn.model_selection import train_test_split\n",
    "\n",
    "#Model Algorithms\n",
    "from sklearn.neighbors import KNeighborsClassifier\n",
    "from sklearn.svm import SVC\n",
    "from sklearn.naive_bayes import MultinomialNB\n",
    "from sklearn.tree import DecisionTreeClassifier\n",
    "from sklearn.linear_model import LogisticRegression\n",
    "from sklearn.ensemble import VotingClassifier,StackingClassifier\n",
    "from sklearn.ensemble import BaggingClassifier\n",
    "from sklearn.ensemble import RandomForestClassifier\n",
    "from sklearn.ensemble import GradientBoostingClassifier\n",
    "from sklearn.ensemble import ExtraTreesClassifier\n",
    "from sklearn.ensemble import AdaBoostClassifier\n",
    "\n",
    "import seaborn as sns\n",
    "import matplotlib.pyplot as plt\n",
    "from sklearn.metrics import confusion_matrix,classification_report,accuracy_score\n",
    "from sklearn.metrics import accuracy_score\n",
    "from sklearn import model_selection\n",
    "\n",
    "import time\n",
    "\n",
    "import warnings\n",
    "warnings.filterwarnings('ignore')"
   ]
  },
  {
   "cell_type": "markdown",
   "id": "cf4db763",
   "metadata": {},
   "source": [
    "### Read Training Dataset "
   ]
  },
  {
   "cell_type": "code",
   "execution_count": 2,
   "id": "1bbb20f0",
   "metadata": {},
   "outputs": [
    {
     "name": "stdout",
     "output_type": "stream",
     "text": [
      "Initial :\n",
      "Train\n",
      "------------------\n",
      "       textID                                               text  \\\n",
      "0  cb774db0d1                I`d have responded, if I were going   \n",
      "1  549e992a42      Sooo SAD I will miss you here in San Diego!!!   \n",
      "2  088c60f138                          my boss is bullying me...   \n",
      "3  9642c003ef                     what interview! leave me alone   \n",
      "4  358bd9e861   Sons of ****, why couldn`t they put them on t...   \n",
      "\n",
      "                         selected_text sentiment Time of Tweet Age of User  \\\n",
      "0  I`d have responded, if I were going   neutral       morning        0-20   \n",
      "1                             Sooo SAD  negative          noon       21-30   \n",
      "2                          bullying me  negative         night       31-45   \n",
      "3                       leave me alone  negative       morning       46-60   \n",
      "4                        Sons of ****,  negative          noon       60-70   \n",
      "\n",
      "       Country  Population -2020  Land Area (Km²)  Density (P/Km²)  \n",
      "0  Afghanistan          38928346         652860.0               60  \n",
      "1      Albania           2877797          27400.0              105  \n",
      "2      Algeria          43851044        2381740.0               18  \n",
      "3      Andorra             77265            470.0              164  \n",
      "4       Angola          32866272        1246700.0               26  \n",
      "\n",
      "Test\n",
      "------------------\n",
      "                                                text sentiment\n",
      "0                Anyone iPhone 14 or Pro?\\n\\n#iPhone   neutral\n",
      "1  I remember the first time i bought a smart Pho...  positive\n",
      "2  🧵 iPhone 14 Pro Max, my take:\\n\\nAfter using t...  positive\n",
      "3  I have started saving for the next #iPhone wha...   neutral\n",
      "4  Mf #iphone after this fucking update everythin...  negative\n"
     ]
    }
   ],
   "source": [
    "train=pd.read_csv(\"train.csv\",encoding=\"unicode_escape\")\n",
    "test=pd.read_csv(\"iPhoneTest.csv\")\n",
    "print(\"Initial :\")\n",
    "\n",
    "print('Train')\n",
    "print('------------------')\n",
    "print(train.head())\n",
    "\n",
    "print('\\nTest')\n",
    "print('------------------')\n",
    "print(test.head())"
   ]
  },
  {
   "cell_type": "markdown",
   "id": "2ec4cf45",
   "metadata": {},
   "source": [
    "### Attribute Selection"
   ]
  },
  {
   "cell_type": "code",
   "execution_count": 3,
   "id": "fea17548",
   "metadata": {},
   "outputs": [
    {
     "name": "stdout",
     "output_type": "stream",
     "text": [
      "Attribute Selection :\n",
      "\n",
      "Train\n",
      "------------------\n",
      "                                                text sentiment\n",
      "0                I`d have responded, if I were going   neutral\n",
      "1      Sooo SAD I will miss you here in San Diego!!!  negative\n",
      "2                          my boss is bullying me...  negative\n",
      "3                     what interview! leave me alone  negative\n",
      "4   Sons of ****, why couldn`t they put them on t...  negative\n",
      "\n",
      "Test\n",
      "------------------\n",
      "Attribute Selection :\n",
      "                                                text sentiment\n",
      "0                Anyone iPhone 14 or Pro?\\n\\n#iPhone   neutral\n",
      "1  I remember the first time i bought a smart Pho...  positive\n",
      "2  🧵 iPhone 14 Pro Max, my take:\\n\\nAfter using t...  positive\n",
      "3  I have started saving for the next #iPhone wha...   neutral\n",
      "4  Mf #iphone after this fucking update everythin...  negative\n"
     ]
    }
   ],
   "source": [
    "print('Attribute Selection :')\n",
    "print('\\nTrain')\n",
    "print('------------------')\n",
    "train=train[['text','sentiment']]\n",
    "\n",
    "print(train.head())\n",
    "\n",
    "\n",
    "print('\\nTest')\n",
    "print('------------------')\n",
    "test=test[['text','sentiment']]\n",
    "print('Attribute Selection :')\n",
    "print(test.head())"
   ]
  },
  {
   "cell_type": "markdown",
   "id": "f36c5de5",
   "metadata": {},
   "source": [
    "### Drop rows with null values "
   ]
  },
  {
   "cell_type": "code",
   "execution_count": 4,
   "id": "e5d6dbd9",
   "metadata": {},
   "outputs": [],
   "source": [
    "train.isnull().sum()\n",
    "train=train.dropna(axis=0)\n",
    "\n",
    "test.isnull().sum()\n",
    "test=test.dropna(axis=0)"
   ]
  },
  {
   "cell_type": "markdown",
   "id": "cca0e90c",
   "metadata": {},
   "source": [
    "### Convert to lowercase "
   ]
  },
  {
   "cell_type": "code",
   "execution_count": 5,
   "id": "0a3aca1d",
   "metadata": {},
   "outputs": [
    {
     "name": "stdout",
     "output_type": "stream",
     "text": [
      "Lowercase\n",
      "\n",
      "Train\n",
      "------------------\n",
      "0                  i`d have responded, if i were going\n",
      "1        sooo sad i will miss you here in san diego!!!\n",
      "2                            my boss is bullying me...\n",
      "3                       what interview! leave me alone\n",
      "4     sons of ****, why couldn`t they put them on t...\n",
      "Name: text, dtype: object\n",
      "\n",
      "Test\n",
      "------------------\n",
      "Lowercase\n",
      "0                  anyone iphone 14 or pro?\\n\\n#iphone\n",
      "1    i remember the first time i bought a smart pho...\n",
      "2    🧵 iphone 14 pro max, my take:\\n\\nafter using t...\n",
      "3    i have started saving for the next #iphone wha...\n",
      "4    mf #iphone after this fucking update everythin...\n",
      "Name: text, dtype: object\n"
     ]
    }
   ],
   "source": [
    "print('Lowercase')\n",
    "print('\\nTrain')\n",
    "print('------------------')\n",
    "train['text']=train['text'].str.lower()\n",
    "print(train['text'].head())\n",
    "\n",
    "print('\\nTest')\n",
    "print('------------------')\n",
    "test['text']=test['text'].str.lower()\n",
    "print('Lowercase')\n",
    "print(test['text'].head())"
   ]
  },
  {
   "cell_type": "markdown",
   "id": "79f9d156",
   "metadata": {},
   "source": [
    "### Remove URL"
   ]
  },
  {
   "cell_type": "code",
   "execution_count": 6,
   "id": "cb4ab375",
   "metadata": {},
   "outputs": [
    {
     "name": "stdout",
     "output_type": "stream",
     "text": [
      "Remove URL\n",
      "\n",
      "Train\n",
      "------------------\n",
      "Remove URL: \n",
      "0                  i`d have responded, if i were going\n",
      "1        sooo sad i will miss you here in san diego!!!\n",
      "2                            my boss is bullying me...\n",
      "3                       what interview! leave me alone\n",
      "4     sons of ****, why couldn`t they put them on t...\n",
      "Name: text, dtype: object\n",
      "\n",
      "Test\n",
      "------------------\n",
      "0                  anyone iphone 14 or pro?\\n\\n#iphone\n",
      "1    i remember the first time i bought a smart pho...\n",
      "2    🧵 iphone 14 pro max, my take:\\n\\nafter using t...\n",
      "3    i have started saving for the next #iphone wha...\n",
      "4    mf #iphone after this fucking update everythin...\n",
      "Name: text, dtype: object\n"
     ]
    }
   ],
   "source": [
    "print('Remove URL')\n",
    "print('\\nTrain')\n",
    "print('------------------')\n",
    "train['text'] = train['text'].replace('((www.[^\\s]+)|(https?://[^\\s]+))', '', regex = True)\n",
    "print(\"Remove URL: \")\n",
    "print(train['text'].head())\n",
    "\n",
    "\n",
    "print('\\nTest')\n",
    "print('------------------')\n",
    "test['text'] = test['text'].replace('((www.[^\\s]+)|(https?://[^\\s]+))', '', regex = True)\n",
    "print(test['text'].head())"
   ]
  },
  {
   "cell_type": "markdown",
   "id": "962faba2",
   "metadata": {},
   "source": [
    "### Remove Emoji "
   ]
  },
  {
   "cell_type": "code",
   "execution_count": 7,
   "id": "ff07ca6c",
   "metadata": {},
   "outputs": [
    {
     "name": "stdout",
     "output_type": "stream",
     "text": [
      "Remove Emoji\n",
      "\n",
      "Train\n",
      "------------------\n",
      "0                  i`d have responded, if i were going\n",
      "1        sooo sad i will miss you here in san diego!!!\n",
      "2                            my boss is bullying me...\n",
      "3                       what interview! leave me alone\n",
      "4     sons of ****, why couldn`t they put them on t...\n",
      "Name: text, dtype: object\n",
      "\n",
      "Test\n",
      "------------------\n",
      "0                  anyone iphone 14 or pro?\\n\\n#iphone\n",
      "1    i remember the first time i bought a smart pho...\n",
      "2     iphone 14 pro max, my take:\\n\\nafter using th...\n",
      "3    i have started saving for the next #iphone wha...\n",
      "4    mf #iphone after this fucking update everythin...\n",
      "Name: text, dtype: object\n"
     ]
    }
   ],
   "source": [
    "def remove_emojis(data):\n",
    "    emoj = re.compile(\"[\"\n",
    "        u\"\\U0001F600-\\U0001F64F\"  # emoticons\n",
    "        u\"\\U0001F300-\\U0001F5FF\"  # symbols & pictographs\n",
    "        u\"\\U0001F680-\\U0001F6FF\"  # transport & map symbols\n",
    "        u\"\\U0001F1E0-\\U0001F1FF\"  # flags (iOS)\n",
    "        u\"\\U00002500-\\U00002BEF\"  # chinese char\n",
    "        u\"\\U00002702-\\U000027B0\"\n",
    "        u\"\\U00002702-\\U000027B0\"\n",
    "        u\"\\U000024C2-\\U0001F251\"\n",
    "        u\"\\U0001f926-\\U0001f937\"\n",
    "        u\"\\U00010000-\\U0010ffff\"\n",
    "        u\"\\u2640-\\u2642\" \n",
    "        u\"\\u2600-\\u2B55\"\n",
    "        u\"\\u200d\"\n",
    "        u\"\\u23cf\"\n",
    "        u\"\\u23e9\"\n",
    "        u\"\\u231a\"\n",
    "        u\"\\ufe0f\"  # dingbats\n",
    "        u\"\\u3030\"\n",
    "                      \"]+\", re.UNICODE)\n",
    "    return re.sub(emoj, '', data)\n",
    "\n",
    "print('Remove Emoji')\n",
    "print('\\nTrain')\n",
    "print('------------------')\n",
    "train['text'] = train['text'].apply(lambda text: remove_emojis(text))\n",
    "print(train['text'].head())\n",
    "\n",
    "\n",
    "print('\\nTest')\n",
    "print('------------------')\n",
    "test['text'] = test['text'].apply(lambda text: remove_emojis(text))\n",
    "print(test['text'].head())"
   ]
  },
  {
   "cell_type": "markdown",
   "id": "b5fa10b9",
   "metadata": {},
   "source": [
    "### Remove @user "
   ]
  },
  {
   "cell_type": "code",
   "execution_count": 8,
   "id": "92c4583b",
   "metadata": {},
   "outputs": [
    {
     "name": "stdout",
     "output_type": "stream",
     "text": [
      "Remove @ User\n",
      "\n",
      "Train\n",
      "------------------\n",
      "Remove @user: \n",
      "0                  i`d have responded, if i were going\n",
      "1        sooo sad i will miss you here in san diego!!!\n",
      "2                            my boss is bullying me...\n",
      "3                       what interview! leave me alone\n",
      "4     sons of ****, why couldn`t they put them on t...\n",
      "Name: text, dtype: object\n",
      "\n",
      "Test\n",
      "------------------\n",
      "Remove @user: \n",
      "0                  anyone iphone 14 or pro?\\n\\n#iphone\n",
      "1    i remember the first time i bought a smart pho...\n",
      "2     iphone 14 pro max, my take:\\n\\nafter using th...\n",
      "3    i have started saving for the next #iphone wha...\n",
      "4    mf #iphone after this fucking update everythin...\n",
      "Name: text, dtype: object\n"
     ]
    }
   ],
   "source": [
    "print('Remove @ User')\n",
    "print('\\nTrain')\n",
    "print('------------------')\n",
    "train['text'] = train['text'].replace('(@[^\\s]+)', '', regex = True)\n",
    "print(\"Remove @user: \")\n",
    "print(train['text'].head())\n",
    "\n",
    "print('\\nTest')\n",
    "print('------------------')\n",
    "test['text'] = test['text'].replace('(@[^\\s]+)', '', regex = True)\n",
    "print(\"Remove @user: \")\n",
    "print(test['text'].head())"
   ]
  },
  {
   "cell_type": "markdown",
   "id": "9a1902f2",
   "metadata": {},
   "source": [
    "### Remove # keyword "
   ]
  },
  {
   "cell_type": "code",
   "execution_count": 9,
   "id": "d10c4302",
   "metadata": {},
   "outputs": [
    {
     "name": "stdout",
     "output_type": "stream",
     "text": [
      "Remove #\n",
      "\n",
      "Train\n",
      "------------------\n",
      "Remove #keyword: \n",
      "0                  i`d have responded, if i were going\n",
      "1        sooo sad i will miss you here in san diego!!!\n",
      "2                            my boss is bullying me...\n",
      "3                       what interview! leave me alone\n",
      "4     sons of ****, why couldn`t they put them on t...\n",
      "Name: text, dtype: object\n",
      "\n",
      "Test\n",
      "------------------\n",
      "Remove #keyword: \n",
      "0                         anyone iphone 14 or pro?\\n\\n\n",
      "1    i remember the first time i bought a smart pho...\n",
      "2     iphone 14 pro max, my take:\\n\\nafter using th...\n",
      "3     i have started saving for the next  whatever pro\n",
      "4    mf  after this fucking update everything has b...\n",
      "Name: text, dtype: object\n"
     ]
    }
   ],
   "source": [
    "print('Remove #')\n",
    "print('\\nTrain')\n",
    "print('------------------')\n",
    "train['text'] = train['text'].replace('(#[^\\s]+)', '', regex = True)\n",
    "print(\"Remove #keyword: \")\n",
    "print(train['text'].head())\n",
    "\n",
    "\n",
    "print('\\nTest')\n",
    "print('------------------')\n",
    "test['text'] = test['text'].replace('(#[^\\s]+)', '', regex = True)\n",
    "print(\"Remove #keyword: \")\n",
    "print(test['text'].head())"
   ]
  },
  {
   "cell_type": "markdown",
   "id": "65d6bb81",
   "metadata": {},
   "source": [
    "### Remove numerical characters "
   ]
  },
  {
   "cell_type": "code",
   "execution_count": 10,
   "id": "d1a1f4f7",
   "metadata": {},
   "outputs": [
    {
     "name": "stdout",
     "output_type": "stream",
     "text": [
      "Remove numerical characters\n",
      "\n",
      "Train\n",
      "------------------\n",
      "0                  i`d have responded, if i were going\n",
      "1        sooo sad i will miss you here in san diego!!!\n",
      "2                            my boss is bullying me...\n",
      "3                       what interview! leave me alone\n",
      "4     sons of ****, why couldn`t they put them on t...\n",
      "Name: text, dtype: object\n",
      "\n",
      "Test\n",
      "------------------\n",
      "Remove numbers: \n",
      "0                           anyone iphone  or pro?\\n\\n\n",
      "1    i remember the first time i bought a smart pho...\n",
      "2     iphone  pro max, my take:\\n\\nafter using the ...\n",
      "3     i have started saving for the next  whatever pro\n",
      "4    mf  after this fucking update everything has b...\n",
      "Name: text, dtype: object\n"
     ]
    }
   ],
   "source": [
    "print('Remove numerical characters')\n",
    "print('\\nTrain')\n",
    "print('------------------')\n",
    "train['text'] = train['text'].replace('[0-9]+', '', regex = True)\n",
    "print(train['text'].head())\n",
    "\n",
    "print('\\nTest')\n",
    "print('------------------')\n",
    "test['text'] = test['text'].replace('[0-9]+', '', regex = True)\n",
    "print(\"Remove numbers: \")\n",
    "print(test['text'].head())"
   ]
  },
  {
   "cell_type": "markdown",
   "id": "3144ac82",
   "metadata": {},
   "source": [
    "### Remove punctuation "
   ]
  },
  {
   "cell_type": "code",
   "execution_count": 11,
   "id": "af5c38e4",
   "metadata": {},
   "outputs": [
    {
     "name": "stdout",
     "output_type": "stream",
     "text": [
      "Remove punctuation\n",
      "\n",
      "Train\n",
      "------------------\n",
      "Remove punctuation: \n",
      "0                    id have responded if i were going\n",
      "1           sooo sad i will miss you here in san diego\n",
      "2                               my boss is bullying me\n",
      "3                        what interview leave me alone\n",
      "4     sons of  why couldnt they put them on the rel...\n",
      "Name: text, dtype: object\n",
      "\n",
      "Test\n",
      "------------------\n",
      "Remove punctuation: \n",
      "0                            anyone iphone  or pro\\n\\n\n",
      "1    i remember the first time i bought a smart pho...\n",
      "2     iphone  pro max my take\\n\\nafter using the ne...\n",
      "3     i have started saving for the next  whatever pro\n",
      "4    mf  after this fucking update everything has b...\n",
      "Name: text, dtype: object\n"
     ]
    }
   ],
   "source": [
    "print('Remove punctuation')\n",
    "print('\\nTrain')\n",
    "print('------------------')\n",
    "train['text'] = train['text'].str.translate(str.maketrans('', '', string.punctuation))\n",
    "print(\"Remove punctuation: \")\n",
    "print(train['text'].head())\n",
    "\n",
    "print('\\nTest')\n",
    "print('------------------')\n",
    "test['text'] = test['text'].str.translate(str.maketrans('', '', string.punctuation))\n",
    "print(\"Remove punctuation: \")\n",
    "print(test['text'].head())"
   ]
  },
  {
   "cell_type": "markdown",
   "id": "ca1b07e6",
   "metadata": {},
   "source": [
    "### Remove repeated keywords"
   ]
  },
  {
   "cell_type": "code",
   "execution_count": 12,
   "id": "0c43e663",
   "metadata": {},
   "outputs": [
    {
     "name": "stdout",
     "output_type": "stream",
     "text": [
      "Remove repeated keywords :\n",
      "\n",
      "Train\n",
      "------------------\n",
      "0                    id have responded if i were going\n",
      "1            soo sad i will miss you here in san diego\n",
      "2                               my boss is bullying me\n",
      "3                        what interview leave me alone\n",
      "4     sons of  why couldnt they put them on the rel...\n",
      "Name: text, dtype: object\n",
      "\n",
      "Test\n",
      "------------------\n",
      "0                            anyone iphone  or pro\\n\\n\n",
      "1    i remember the first time i bought a smart pho...\n",
      "2     iphone  pro max my take\\n\\nafter using the ne...\n",
      "3     i have started saving for the next  whatever pro\n",
      "4    mf  after this fucking update everything has b...\n",
      "Name: text, dtype: object\n"
     ]
    }
   ],
   "source": [
    "print('Remove repeated keywords :')\n",
    "print('\\nTrain')\n",
    "print('------------------')\n",
    "train['text'] = train['text'].replace(r'(.)\\1+', r'\\1\\1', regex = True)\n",
    "print(train['text'].head())\n",
    "\n",
    "print('\\nTest')\n",
    "print('------------------')\n",
    "test['text'] = test['text'].replace(r'(.)\\1+', r'\\1\\1', regex = True)\n",
    "print(test['text'].head())"
   ]
  },
  {
   "cell_type": "markdown",
   "id": "0883cc7a",
   "metadata": {},
   "source": [
    "###  Remove Stopwords "
   ]
  },
  {
   "cell_type": "code",
   "execution_count": 13,
   "id": "6bc7d6d9",
   "metadata": {},
   "outputs": [
    {
     "name": "stdout",
     "output_type": "stream",
     "text": [
      "Remove stopwords: \n",
      "\n",
      "Train\n",
      "------------------\n",
      "0                          id responded going\n",
      "1                      soo sad miss san diego\n",
      "2                               boss bullying\n",
      "3                       interview leave alone\n",
      "4    sons couldnt put releases already bought\n",
      "Name: text, dtype: object\n",
      "\n",
      "Test\n",
      "------------------\n",
      "0                                    anyone iphone pro\n",
      "1    remember first time bought smart phone g showe...\n",
      "2    iphone pro max take using new i’ve noticed int...\n",
      "3                     started saving next whatever pro\n",
      "4    mf fucking update everything become slow can’t...\n",
      "Name: text, dtype: object\n"
     ]
    }
   ],
   "source": [
    "stop_words = set(stopwords.words('english'))\n",
    "def cleaning_stopwords(text):\n",
    "    return \" \".join([word for word in str(text).split() if word not in stop_words])\n",
    "\n",
    "print(\"Remove stopwords: \")\n",
    "print('\\nTrain')\n",
    "print('------------------')\n",
    "train['text'] = train['text'].apply(lambda text: cleaning_stopwords(text))\n",
    "print(train['text'].head())\n",
    "\n",
    "print('\\nTest')\n",
    "print('------------------')\n",
    "test['text'] = test['text'].apply(lambda text: cleaning_stopwords(text))\n",
    "print(test['text'].head())"
   ]
  },
  {
   "cell_type": "markdown",
   "id": "4714f948",
   "metadata": {},
   "source": [
    "### Tokenization"
   ]
  },
  {
   "cell_type": "code",
   "execution_count": 14,
   "id": "efb095b8",
   "metadata": {},
   "outputs": [
    {
     "name": "stdout",
     "output_type": "stream",
     "text": [
      "Tokenization: \n",
      "\n",
      "Train\n",
      "------------------\n",
      "Tokenization: \n",
      "0                             [id, responded, going]\n",
      "1                       [soo, sad, miss, san, diego]\n",
      "2                                   [boss, bullying]\n",
      "3                          [interview, leave, alone]\n",
      "4    [sons, couldnt, put, releases, already, bought]\n",
      "Name: text, dtype: object\n",
      "\n",
      "Test\n",
      "------------------\n",
      "Tokenization: \n",
      "0                                [anyone, iphone, pro]\n",
      "1    [remember, first, time, bought, smart, phone, ...\n",
      "2    [iphone, pro, max, take, using, new, i, ’, ve,...\n",
      "3               [started, saving, next, whatever, pro]\n",
      "4    [mf, fucking, update, everything, become, slow...\n",
      "Name: text, dtype: object\n"
     ]
    }
   ],
   "source": [
    "print(\"Tokenization: \")\n",
    "print('\\nTrain')\n",
    "print('------------------')\n",
    "train['text'] = train['text'].apply(nltk.word_tokenize)\n",
    "print(\"Tokenization: \")\n",
    "print(train['text'].head())\n",
    "\n",
    "\n",
    "print('\\nTest')\n",
    "print('------------------')\n",
    "test['text'] = test['text'].apply(nltk.word_tokenize)\n",
    "print(\"Tokenization: \")\n",
    "print(test['text'].head())"
   ]
  },
  {
   "cell_type": "code",
   "execution_count": 15,
   "id": "de8d323f",
   "metadata": {},
   "outputs": [
    {
     "name": "stdout",
     "output_type": "stream",
     "text": [
      "\n",
      "Train\n",
      "------------------\n",
      "                                              text sentiment\n",
      "0                           [id, responded, going]   neutral\n",
      "1                     [soo, sad, miss, san, diego]  negative\n",
      "2                                 [boss, bullying]  negative\n",
      "3                        [interview, leave, alone]  negative\n",
      "4  [sons, couldnt, put, releases, already, bought]  negative\n",
      "\n",
      "Test\n",
      "------------------\n",
      "                                                text sentiment\n",
      "0                              [anyone, iphone, pro]   neutral\n",
      "1  [remember, first, time, bought, smart, phone, ...  positive\n",
      "2  [iphone, pro, max, take, using, new, i, ’, ve,...  positive\n",
      "3             [started, saving, next, whatever, pro]   neutral\n",
      "4  [mf, fucking, update, everything, become, slow...  negative\n"
     ]
    }
   ],
   "source": [
    "print('\\nTrain')\n",
    "print('------------------')\n",
    "print(train.head())\n",
    "\n",
    "print('\\nTest')\n",
    "print('------------------')\n",
    "print(test.head())"
   ]
  },
  {
   "cell_type": "markdown",
   "id": "1cc5236d",
   "metadata": {},
   "source": [
    "### Label Encoding "
   ]
  },
  {
   "cell_type": "code",
   "execution_count": 16,
   "id": "021e4e6b",
   "metadata": {},
   "outputs": [
    {
     "name": "stdout",
     "output_type": "stream",
     "text": [
      "\n",
      "Train\n",
      "------------------\n",
      "                                              text  sentiment\n",
      "0                           [id, responded, going]          0\n",
      "1                     [soo, sad, miss, san, diego]         -1\n",
      "2                                 [boss, bullying]         -1\n",
      "3                        [interview, leave, alone]         -1\n",
      "4  [sons, couldnt, put, releases, already, bought]         -1\n",
      "\n",
      "Test\n",
      "------------------\n",
      "                                                text  sentiment\n",
      "0                              [anyone, iphone, pro]          0\n",
      "1  [remember, first, time, bought, smart, phone, ...          1\n",
      "2  [iphone, pro, max, take, using, new, i, ’, ve,...          1\n",
      "3             [started, saving, next, whatever, pro]          0\n",
      "4  [mf, fucking, update, everything, become, slow...         -1\n"
     ]
    }
   ],
   "source": [
    "train['sentiment'] = train['sentiment'].map({\"positive\": 1, \"neutral\": 0, \"negative\": -1})\n",
    "test['sentiment'] = test['sentiment'].map({\"positive\": 1, \"neutral\": 0, \"negative\": -1})\n",
    "print('\\nTrain')\n",
    "print('------------------')\n",
    "print(train.head())\n",
    "\n",
    "print('\\nTest')\n",
    "print('------------------')\n",
    "print(test.head())"
   ]
  },
  {
   "cell_type": "code",
   "execution_count": 17,
   "id": "045ff26a",
   "metadata": {},
   "outputs": [
    {
     "name": "stdout",
     "output_type": "stream",
     "text": [
      "\n",
      "Train\n",
      "------------------\n",
      " 0    11117\n",
      " 1     8582\n",
      "-1     7781\n",
      "Name: sentiment, dtype: int64\n",
      "\n",
      "Test\n",
      "------------------\n",
      "-1    126\n",
      " 1    107\n",
      " 0     77\n",
      "Name: sentiment, dtype: int64\n"
     ]
    }
   ],
   "source": [
    "print('\\nTrain')\n",
    "print('------------------')\n",
    "print(train['sentiment'].value_counts())\n",
    "\n",
    "print('\\nTest')\n",
    "print('------------------')\n",
    "print(test['sentiment'].value_counts())"
   ]
  },
  {
   "cell_type": "markdown",
   "id": "1fe05071",
   "metadata": {},
   "source": [
    "### POS "
   ]
  },
  {
   "cell_type": "code",
   "execution_count": 18,
   "id": "55c328fb",
   "metadata": {},
   "outputs": [
    {
     "name": "stdout",
     "output_type": "stream",
     "text": [
      "POS : \n",
      "\n",
      "Train\n",
      "------------------\n",
      "POS tagging: \n",
      "0           [(id, NN), (responded, VBD), (going, VBG)]\n",
      "1    [(soo, JJ), (sad, JJ), (miss, NN), (san, NN), ...\n",
      "2                        [(boss, IN), (bullying, VBG)]\n",
      "3         [(interview, NN), (leave, VBP), (alone, RB)]\n",
      "4    [(sons, NNS), (couldnt, VBP), (put, VBN), (rel...\n",
      "Name: text, dtype: object\n",
      "\n",
      "Test\n",
      "------------------\n",
      "POS tagging: \n",
      "0              [(anyone, NN), (iphone, CD), (pro, NN)]\n",
      "1    [(remember, VB), (first, JJ), (time, NN), (bou...\n",
      "2    [(iphone, JJ), (pro, JJ), (max, NNS), (take, V...\n",
      "3    [(started, VBN), (saving, VBG), (next, JJ), (w...\n",
      "4    [(mf, NN), (fucking, VBG), (update, JJ), (ever...\n",
      "Name: text, dtype: object\n"
     ]
    }
   ],
   "source": [
    "print(\"POS : \")\n",
    "print('\\nTrain')\n",
    "print('------------------')\n",
    "train['text'] = train['text'].apply(nltk.pos_tag)\n",
    "print(\"POS tagging: \")\n",
    "print(train['text'].head())\n",
    "\n",
    "print('\\nTest')\n",
    "print('------------------')\n",
    "test['text'] = test['text'].apply(nltk.pos_tag)\n",
    "print(\"POS tagging: \")\n",
    "print(test['text'].head())"
   ]
  },
  {
   "cell_type": "markdown",
   "id": "4ee368aa",
   "metadata": {},
   "source": [
    "### Lemmatization"
   ]
  },
  {
   "cell_type": "code",
   "execution_count": 19,
   "id": "e2ae3553",
   "metadata": {},
   "outputs": [
    {
     "name": "stdout",
     "output_type": "stream",
     "text": [
      "Lemmatization : \n",
      "\n",
      "Train\n",
      "------------------\n",
      "0                          id respond go\n",
      "1                 soo sad miss san diego\n",
      "2                              bos bully\n",
      "3                  interview leave alone\n",
      "4    son couldnt put release already buy\n",
      "Name: text, dtype: object\n",
      "\n",
      "Test\n",
      "------------------\n",
      "0                                    anyone iphone pro\n",
      "1    remember first time buy smart phone g show gra...\n",
      "2    iphone pro max take use new i ’ ve notice inte...\n",
      "3                         start save next whatever pro\n",
      "4    mf fuck update everything become slow can ’ t ...\n",
      "Name: text, dtype: object\n"
     ]
    }
   ],
   "source": [
    "def get_wordnet_pos(treebank_pos):\n",
    "    if treebank_pos.startswith('J'):\n",
    "        return wordnet.ADJ\n",
    "    elif treebank_pos.startswith('V'):\n",
    "        return wordnet.VERB\n",
    "    elif treebank_pos.startswith('N'):\n",
    "        return wordnet.NOUN\n",
    "    elif treebank_pos.startswith('R'):\n",
    "        return wordnet.ADV\n",
    "    else:\n",
    "        return wordnet.NOUN\n",
    "\n",
    "def lemmatization(text):\n",
    "    lemmatized_tokens = []\n",
    "\n",
    "    for i in range(len(text)):\n",
    "        word, pos = text[i]\n",
    "        \n",
    "        lemmatized_tokens.append(nltk.WordNetLemmatizer().lemmatize(word, get_wordnet_pos(pos)))\n",
    "        \n",
    "    return \" \".join(lemmatized_tokens)\n",
    "\n",
    "print(\"Lemmatization : \")\n",
    "print('\\nTrain')\n",
    "print('------------------')\n",
    "train['text'] = train['text'].apply(lambda text: lemmatization(text))\n",
    "print(train['text'].head())\n",
    "\n",
    "\n",
    "print('\\nTest')\n",
    "print('------------------')\n",
    "test['text'] = test['text'].apply(lambda text: lemmatization(text))\n",
    "print(test['text'].head())"
   ]
  },
  {
   "cell_type": "markdown",
   "id": "daefa7a9",
   "metadata": {},
   "source": [
    "### Train Test Split"
   ]
  },
  {
   "cell_type": "code",
   "execution_count": 20,
   "id": "483b3029",
   "metadata": {},
   "outputs": [],
   "source": [
    "X_train=train['text']\n",
    "X_test=test['text']\n",
    "y_train=train['sentiment']\n",
    "y_test=test['sentiment']"
   ]
  },
  {
   "cell_type": "code",
   "execution_count": 21,
   "id": "50c0db16",
   "metadata": {},
   "outputs": [],
   "source": [
    "tfidf_vectorizer= TfidfVectorizer(max_df=0.90, min_df=2,max_features =1000)\n",
    "X_train = tfidf_vectorizer.fit_transform(X_train) #Tokenize and build vocabulary\n",
    "X_test = tfidf_vectorizer.transform(X_test) #Tokenize and build vocabulary"
   ]
  },
  {
   "cell_type": "code",
   "execution_count": 22,
   "id": "0372f97e",
   "metadata": {},
   "outputs": [
    {
     "name": "stdout",
     "output_type": "stream",
     "text": [
      "(27480, 1000)\n",
      "(27480,)\n",
      "(310, 1000)\n",
      "(310,)\n"
     ]
    }
   ],
   "source": [
    "print(X_train.shape)\n",
    "print(y_train.shape)\n",
    "print(X_test.shape)\n",
    "print(y_test.shape)"
   ]
  },
  {
   "cell_type": "markdown",
   "id": "357e5384",
   "metadata": {},
   "source": [
    "## Individual Model "
   ]
  },
  {
   "cell_type": "markdown",
   "id": "e4713429",
   "metadata": {},
   "source": [
    "#### Confusion Matrix "
   ]
  },
  {
   "cell_type": "code",
   "execution_count": 23,
   "id": "20f88a8e",
   "metadata": {},
   "outputs": [],
   "source": [
    "def confusion_matrix_evaluation(classifier,y_predicted):\n",
    "    mat=confusion_matrix(y_test,y_predicted)\n",
    "    sns.heatmap(mat.T, xticklabels=['Predicted 1','Predicted 0','Predicted -1'],yticklabels=['Actual 1','Actual 0','Actual -1'],\n",
    "                annot=True, fmt='d', cbar=False,cmap=\"YlGnBu\")\n",
    "    plt.title('Confusion Matrix for '+classifier)\n",
    "    plt.ylabel('True label')\n",
    "    plt.xlabel('Predicted label')\n",
    "    plt.savefig(\"confusion_matrix.png\")\n",
    "    plt.show()\n",
    "    print(classifier+' Classification Report ')\n",
    "    print('======================================================')\n",
    "    print(classification_report(y_test,y_predicted))"
   ]
  },
  {
   "cell_type": "markdown",
   "id": "0ae1ee37",
   "metadata": {},
   "source": [
    "### Decision Tree "
   ]
  },
  {
   "cell_type": "code",
   "execution_count": 24,
   "id": "dd9df31e",
   "metadata": {},
   "outputs": [
    {
     "name": "stdout",
     "output_type": "stream",
     "text": [
      "\t\t\t Decision Tree\n",
      "================================================================\n",
      "\n"
     ]
    },
    {
     "data": {
      "image/png": "[encoded data removed]",
      "text/plain": [
       "<Figure size 432x288 with 1 Axes>"
      ]
     },
     "metadata": {
      "needs_background": "light"
     },
     "output_type": "display_data"
    },
    {
     "name": "stdout",
     "output_type": "stream",
     "text": [
      "Decision Tree Classification Report \n",
      "======================================================\n",
      "              precision    recall  f1-score   support\n",
      "\n",
      "          -1       0.74      0.13      0.23       126\n",
      "           0       0.29      0.87      0.44        77\n",
      "           1       0.77      0.41      0.54       107\n",
      "\n",
      "    accuracy                           0.41       310\n",
      "   macro avg       0.60      0.47      0.40       310\n",
      "weighted avg       0.64      0.41      0.39       310\n",
      "\n",
      "Training Accuracy : 0.6762       ||  0.53 seconds\n"
     ]
    }
   ],
   "source": [
    "modelDT = DecisionTreeClassifier(random_state=1,max_leaf_nodes=65,max_depth=100)\n",
    "start_time = time.time()\n",
    "modelDT.fit(X_train, y_train)\n",
    "run_time = time.time() - start_time\n",
    "predicted_DT=modelDT.predict(X_test)\n",
    "score_DT=accuracy_score(predicted_DT,y_test)\n",
    "print('\\t\\t\\t Decision Tree')\n",
    "print('================================================================\\n')\n",
    "confusion_matrix_evaluation('Decision Tree',predicted_DT)\n",
    "print('Training Accuracy : %.4f       ||  %4.2f seconds' % (modelDT.score(X_train, y_train),run_time))"
   ]
  },
  {
   "cell_type": "markdown",
   "id": "c1ec6890",
   "metadata": {},
   "source": [
    "###  SVC"
   ]
  },
  {
   "cell_type": "code",
   "execution_count": 25,
   "id": "0e7ca9db",
   "metadata": {},
   "outputs": [
    {
     "name": "stdout",
     "output_type": "stream",
     "text": [
      "\t\t\t SVC\n",
      "================================================================\n",
      "\n"
     ]
    },
    {
     "data": {
      "image/png": "[encoded data removed]",
      "text/plain": [
       "<Figure size 432x288 with 1 Axes>"
      ]
     },
     "metadata": {
      "needs_background": "light"
     },
     "output_type": "display_data"
    },
    {
     "name": "stdout",
     "output_type": "stream",
     "text": [
      "SVC Classification Report \n",
      "======================================================\n",
      "              precision    recall  f1-score   support\n",
      "\n",
      "          -1       0.72      0.10      0.18       126\n",
      "           0       0.29      0.95      0.44        77\n",
      "           1       0.85      0.31      0.45       107\n",
      "\n",
      "    accuracy                           0.38       310\n",
      "   macro avg       0.62      0.45      0.36       310\n",
      "weighted avg       0.66      0.38      0.34       310\n",
      "\n",
      "Training Accuracy : 0.6687       ||  35.75 seconds\n"
     ]
    }
   ],
   "source": [
    "modelSVC = SVC(C=0.1,kernel='linear',random_state=1)\n",
    "start_time = time.time()\n",
    "modelSVC.fit(X_train, y_train)\n",
    "run_time = time.time() - start_time\n",
    "predicted_SVC=modelSVC.predict(X_test)\n",
    "\n",
    "print('\\t\\t\\t SVC')\n",
    "print('================================================================\\n')\n",
    "confusion_matrix_evaluation('SVC',predicted_SVC)\n",
    "print('Training Accuracy : %.4f       ||  %4.2f seconds' % (modelSVC.score(X_train, y_train),run_time))"
   ]
  },
  {
   "cell_type": "markdown",
   "id": "803f8e40",
   "metadata": {},
   "source": [
    "### Logistic Regression"
   ]
  },
  {
   "cell_type": "code",
   "execution_count": 26,
   "id": "b46f60b7",
   "metadata": {},
   "outputs": [
    {
     "name": "stdout",
     "output_type": "stream",
     "text": [
      "\t\t\t Logistic Regression\n",
      "================================================================\n",
      "\n"
     ]
    },
    {
     "data": {
      "image/png": "[encoded data removed]",
      "text/plain": [
       "<Figure size 432x288 with 1 Axes>"
      ]
     },
     "metadata": {
      "needs_background": "light"
     },
     "output_type": "display_data"
    },
    {
     "name": "stdout",
     "output_type": "stream",
     "text": [
      "Logistic Regression Classification Report \n",
      "======================================================\n",
      "              precision    recall  f1-score   support\n",
      "\n",
      "          -1       0.78      0.25      0.38       126\n",
      "           0       0.30      0.82      0.44        77\n",
      "           1       0.69      0.37      0.48       107\n",
      "\n",
      "    accuracy                           0.44       310\n",
      "   macro avg       0.59      0.48      0.44       310\n",
      "weighted avg       0.63      0.44      0.43       310\n",
      "\n",
      "Training Accuracy : 0.7226       ||  0.21 seconds\n"
     ]
    }
   ],
   "source": [
    "modelLR = LogisticRegression(multi_class='multinomial',random_state=1,solver='saga')\n",
    "start_time = time.time()\n",
    "modelLR.fit(X_train, y_train)\n",
    "run_time = time.time() - start_time\n",
    "predicted_LR=modelLR.predict(X_test)\n",
    "score_LR=accuracy_score(predicted_LR,y_test)\n",
    "\n",
    "\n",
    "print('\\t\\t\\t Logistic Regression')\n",
    "print('================================================================\\n')\n",
    "confusion_matrix_evaluation('Logistic Regression',predicted_LR)\n",
    "print('Training Accuracy : %.4f       ||  %4.2f seconds' % (modelLR.score(X_train, y_train),run_time))"
   ]
  },
  {
   "cell_type": "markdown",
   "id": "88a02070",
   "metadata": {},
   "source": [
    "### Multinomail Naive Bayes "
   ]
  },
  {
   "cell_type": "code",
   "execution_count": 27,
   "id": "ded67a52",
   "metadata": {},
   "outputs": [
    {
     "name": "stdout",
     "output_type": "stream",
     "text": [
      "\t\t\t Multinomail Naive Bayes\n",
      "================================================================\n",
      "\n"
     ]
    },
    {
     "data": {
      "image/png": "[encoded data removed]",
      "text/plain": [
       "<Figure size 432x288 with 1 Axes>"
      ]
     },
     "metadata": {
      "needs_background": "light"
     },
     "output_type": "display_data"
    },
    {
     "name": "stdout",
     "output_type": "stream",
     "text": [
      "Multinomail Naive Bayes Classification Report \n",
      "======================================================\n",
      "              precision    recall  f1-score   support\n",
      "\n",
      "          -1       0.75      0.07      0.13       126\n",
      "           0       0.27      0.94      0.41        77\n",
      "           1       0.71      0.19      0.30       107\n",
      "\n",
      "    accuracy                           0.33       310\n",
      "   macro avg       0.58      0.40      0.28       310\n",
      "weighted avg       0.62      0.33      0.26       310\n",
      "\n",
      "Training Accuracy : 0.6351       ||  0.00 seconds\n"
     ]
    }
   ],
   "source": [
    "modelMNB=MultinomialNB(alpha=20)\n",
    "start_time = time.time()\n",
    "modelMNB.fit(X_train, y_train)\n",
    "run_time = time.time() - start_time\n",
    "predicted_MNB=modelMNB.predict(X_test)\n",
    "score_MNB=accuracy_score(predicted_MNB,y_test)\n",
    "\n",
    "\n",
    "print('\\t\\t\\t Multinomail Naive Bayes')\n",
    "print('================================================================\\n')\n",
    "confusion_matrix_evaluation('Multinomail Naive Bayes',predicted_MNB)\n",
    "print('Training Accuracy : %.4f       ||  %4.2f seconds' % (modelMNB.score(X_train, y_train),run_time))"
   ]
  },
  {
   "cell_type": "markdown",
   "id": "590bb48e",
   "metadata": {},
   "source": [
    "### KNN"
   ]
  },
  {
   "cell_type": "code",
   "execution_count": 28,
   "id": "0cbf90da",
   "metadata": {},
   "outputs": [
    {
     "name": "stdout",
     "output_type": "stream",
     "text": [
      "\t\t\t KNN\n",
      "================================================================\n",
      "\n"
     ]
    },
    {
     "data": {
      "image/png": "[encoded data removed]",
      "text/plain": [
       "<Figure size 432x288 with 1 Axes>"
      ]
     },
     "metadata": {
      "needs_background": "light"
     },
     "output_type": "display_data"
    },
    {
     "name": "stdout",
     "output_type": "stream",
     "text": [
      "KNN Classification Report \n",
      "======================================================\n",
      "              precision    recall  f1-score   support\n",
      "\n",
      "          -1       0.17      0.02      0.03       126\n",
      "           0       0.25      0.91      0.39        77\n",
      "           1       0.65      0.12      0.20       107\n",
      "\n",
      "    accuracy                           0.27       310\n",
      "   macro avg       0.36      0.35      0.21       310\n",
      "weighted avg       0.35      0.27      0.18       310\n",
      "\n",
      "Training Accuracy : 0.5560       ||  0.00 seconds\n"
     ]
    }
   ],
   "source": [
    "modelKNN = KNeighborsClassifier(n_neighbors=13)\n",
    "start_time = time.time()\n",
    "modelKNN.fit(X_train, y_train)\n",
    "run_time = time.time() - start_time\n",
    "predictedKNN=modelKNN.predict(X_test)\n",
    "score_KNN=accuracy_score(predictedKNN,y_test)\n",
    "\n",
    "\n",
    "print('\\t\\t\\t KNN')\n",
    "print('================================================================\\n')\n",
    "confusion_matrix_evaluation('KNN',predictedKNN)\n",
    "print('Training Accuracy : %.4f       ||  %4.2f seconds' % (modelKNN.score(X_train, y_train),run_time))"
   ]
  },
  {
   "cell_type": "markdown",
   "id": "87704178",
   "metadata": {},
   "source": [
    "### Random Forest "
   ]
  },
  {
   "cell_type": "code",
   "execution_count": 29,
   "id": "1a6dacd7",
   "metadata": {},
   "outputs": [
    {
     "name": "stdout",
     "output_type": "stream",
     "text": [
      "\t\t\t Random Forest\n",
      "================================================================\n",
      "\n"
     ]
    },
    {
     "data": {
      "image/png": "[encoded data removed]",
      "text/plain": [
       "<Figure size 432x288 with 1 Axes>"
      ]
     },
     "metadata": {
      "needs_background": "light"
     },
     "output_type": "display_data"
    },
    {
     "name": "stdout",
     "output_type": "stream",
     "text": [
      "Random Forest Classification Report \n",
      "======================================================\n",
      "              precision    recall  f1-score   support\n",
      "\n",
      "          -1       0.76      0.13      0.22       126\n",
      "           0       0.29      0.87      0.43        77\n",
      "           1       0.76      0.39      0.52       107\n",
      "\n",
      "    accuracy                           0.40       310\n",
      "   macro avg       0.60      0.46      0.39       310\n",
      "weighted avg       0.64      0.40      0.37       310\n",
      "\n",
      "Training Accuracy : 0.6782     ||  2.16 seconds\n"
     ]
    }
   ],
   "source": [
    "modelRF = RandomForestClassifier(random_state=1,max_leaf_nodes=65,max_depth=100)\n",
    "start_time = time.time()\n",
    "modelRF.fit(X_train, y_train)\n",
    "run_time = time.time() - start_time\n",
    "predictedRF=modelRF.predict(X_test)\n",
    "score_RF=accuracy_score(predictedRF,y_test)\n",
    "\n",
    "\n",
    "print('\\t\\t\\t Random Forest')\n",
    "print('================================================================\\n')\n",
    "confusion_matrix_evaluation('Random Forest',predictedRF)\n",
    "print('Training Accuracy : %.4f     ||  %4.2f seconds' % (modelRF.score(X_train, y_train),run_time))"
   ]
  },
  {
   "cell_type": "markdown",
   "id": "cbc6b0bc",
   "metadata": {},
   "source": [
    "### Gradient Boosting Classifier"
   ]
  },
  {
   "cell_type": "code",
   "execution_count": 30,
   "id": "3a7fc901",
   "metadata": {},
   "outputs": [
    {
     "data": {
      "image/png": "[encoded data removed]",
      "text/plain": [
       "<Figure size 432x288 with 1 Axes>"
      ]
     },
     "metadata": {
      "needs_background": "light"
     },
     "output_type": "display_data"
    },
    {
     "name": "stdout",
     "output_type": "stream",
     "text": [
      "Gradient Boosting Classifier Classification Report \n",
      "======================================================\n",
      "              precision    recall  f1-score   support\n",
      "\n",
      "          -1       0.75      0.10      0.17       126\n",
      "           0       0.28      0.91      0.43        77\n",
      "           1       0.82      0.34      0.48       107\n",
      "\n",
      "    accuracy                           0.38       310\n",
      "   macro avg       0.62      0.45      0.36       310\n",
      "weighted avg       0.66      0.38      0.34       310\n",
      "\n",
      "Training Accuracy : 0.6626       ||  10.96 seconds\n"
     ]
    }
   ],
   "source": [
    "modelGBC = GradientBoostingClassifier(random_state=1,max_depth=3,max_leaf_nodes=40)\n",
    "start_time = time.time()\n",
    "modelGBC.fit(X_train, y_train)\n",
    "predictedGBC = modelGBC.predict(X_test)\n",
    "run_time = time.time() - start_time\n",
    "confusion_matrix_evaluation('Gradient Boosting Classifier',predictedGBC)\n",
    "print('Training Accuracy : %.4f       ||  %4.2f seconds' % (modelGBC.score(X_train, y_train),run_time))"
   ]
  },
  {
   "cell_type": "markdown",
   "id": "672628ac",
   "metadata": {},
   "source": [
    "### Extremely Randomized Trees "
   ]
  },
  {
   "cell_type": "code",
   "execution_count": 31,
   "id": "6ec25d04",
   "metadata": {},
   "outputs": [
    {
     "data": {
      "image/png": "[encoded data removed]",
      "text/plain": [
       "<Figure size 432x288 with 1 Axes>"
      ]
     },
     "metadata": {
      "needs_background": "light"
     },
     "output_type": "display_data"
    },
    {
     "name": "stdout",
     "output_type": "stream",
     "text": [
      "Extremely Randomized Classifier Classification Report \n",
      "======================================================\n",
      "              precision    recall  f1-score   support\n",
      "\n",
      "          -1       0.76      0.15      0.25       126\n",
      "           0       0.29      0.87      0.44        77\n",
      "           1       0.75      0.38      0.51       107\n",
      "\n",
      "    accuracy                           0.41       310\n",
      "   macro avg       0.60      0.47      0.40       310\n",
      "weighted avg       0.64      0.41      0.39       310\n",
      "\n",
      "Training Accuracy : 0.6852       ||  1.70 seconds\n"
     ]
    }
   ],
   "source": [
    "modelETC = ExtraTreesClassifier(random_state=1,max_depth=80,max_leaf_nodes=100)\n",
    "start_time = time.time()\n",
    "modelETC.fit(X_train, y_train)\n",
    "predictedETC = modelETC.predict(X_test)\n",
    "run_time = time.time() - start_time\n",
    "confusion_matrix_evaluation('Extremely Randomized Classifier',predictedETC)\n",
    "print('Training Accuracy : %.4f       ||  %4.2f seconds' % (modelETC.score(X_train, y_train),run_time))"
   ]
  }
 ],
 "metadata": {
  "kernelspec": {
   "display_name": "Python 3 (ipykernel)",
   "language": "python",
   "name": "python3"
  },
  "language_info": {
   "codemirror_mode": {
    "name": "ipython",
    "version": 3
   },
   "file_extension": ".py",
   "mimetype": "text/x-python",
   "name": "python",
   "nbconvert_exporter": "python",
   "pygments_lexer": "ipython3",
   "version": "3.9.12"
  }
 },
 "nbformat": 4,
 "nbformat_minor": 5
}
